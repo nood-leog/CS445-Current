{
 "cells": [
  {
   "cell_type": "markdown",
   "id": "dbb74f49-59c7-44d2-ba82-580eb7625093",
   "metadata": {},
   "source": [
    "# Data Visualization with Python\n",
    "In today’s world, a lot of data is being generated on a daily basis. And sometimes to analyze this data for certain trends, patterns may become difficult if the data is in its raw format. To overcome this data visualization comes into play. Data visualization provides a good, organized pictorial representation of the data which makes it easier to understand, observe, analyze. In this tutorial, we will discuss how to visualize data using Python.\n",
    "\n",
    "Python provides various libraries that come with different features for visualizing data. All these libraries come with different features and can support various types of graphs. In this tutorial, we will be discussing four such libraries.\n",
    "\n",
    "- Matplotlib\n",
    "\n",
    "- Seaborn\n",
    "\n",
    "\n",
    "We will discuss these libraries one by one and will plot some most commonly used graphs. "
   ]
  },
  {
   "cell_type": "markdown",
   "id": "260cb02b-6be3-48ea-b54a-830d3b2c15ed",
   "metadata": {},
   "source": [
    "## Database Used"
   ]
  },
  {
   "cell_type": "code",
   "execution_count": null,
   "id": "b2b7afed-ab93-479b-a7f5-697f63a946da",
   "metadata": {},
   "outputs": [],
   "source": [
    "import pandas as pd\n",
    "import matplotlib.pyplot as plt\n",
    " \n",
    "# reading the database\n",
    "tips = pd.read_csv(\"tips.csv\")\n",
    " \n",
    "# printing the top 10 rows\n",
    "display(tips.head(10))"
   ]
  },
  {
   "cell_type": "markdown",
   "id": "f1311fea-4a78-4b08-af25-16ea0809b4fb",
   "metadata": {},
   "source": [
    "### Basic Filtering with pandas\n",
    "\n",
    "### **Example 1**: Filter the data for smokers vs. non-smokers"
   ]
  },
  {
   "cell_type": "code",
   "execution_count": null,
   "id": "810953ba-293f-4fbc-a958-d520d1279b20",
   "metadata": {},
   "outputs": [],
   "source": [
    "smoker_tips = tips[tips['smoker'] == 'Yes']\n",
    "non_smoker_tips = tips[tips['smoker'] == 'No']\n",
    "\n",
    "print(\"\\nNumber of tips for smokers:\", len(smoker_tips))\n",
    "print(\"Number of tips for non-smokers:\", len(non_smoker_tips))"
   ]
  },
  {
   "cell_type": "markdown",
   "id": "125f6c8a-a940-4f49-ab89-1b219634caca",
   "metadata": {},
   "source": [
    "### **Example 2**: Group by day and smoker status to calculate average tip"
   ]
  },
  {
   "cell_type": "code",
   "execution_count": null,
   "id": "d16e85e9-6a79-49b6-9f7d-5553115e6625",
   "metadata": {},
   "outputs": [],
   "source": [
    "# Example 2: Group by day and smoker status to calculate average tip\n",
    "avg_tip_by_day = tips.groupby(['day', 'smoker'])['tip'].mean().unstack()\n",
    "print(\"\\nAverage tip by day and smoker status:\")\n",
    "print(avg_tip_by_day)\n"
   ]
  },
  {
   "cell_type": "code",
   "execution_count": null,
   "id": "577b98f6-2ffa-4cf3-b764-64eef9c407ff",
   "metadata": {},
   "outputs": [],
   "source": [
    "# ---------------------------\n",
    "# Visualizing the Results\n",
    "# ---------------------------\n",
    "\n",
    "# Visualization 1: Bar Plot of Average Tip by Day for Smokers vs. Non-Smokers\n",
    "plt.figure(figsize=(8,6))\n",
    "avg_tip_by_day.plot(kind='bar')\n",
    "plt.xlabel('Day of the Week')\n",
    "plt.ylabel('Average Tip')\n",
    "plt.title('<Your Name>+ Average Tip by Day and Smoker Status')\n",
    "plt.legend(title='Smoker')\n",
    "plt.grid(axis='y', linestyle='--', alpha=0.7)\n",
    "plt.show()"
   ]
  },
  {
   "cell_type": "markdown",
   "id": "5cd2ddc8-720c-4295-8272-fc06813890db",
   "metadata": {},
   "source": [
    "### Simple select"
   ]
  },
  {
   "cell_type": "code",
   "execution_count": null,
   "id": "6fff4c33-89a3-42cd-a3c3-fd1c11aa614a",
   "metadata": {},
   "outputs": [],
   "source": [
    "# Scatter plot with day against tip\n",
    "plt.scatter(tips['day'], tips['tip'])\n",
    " \n",
    "# Adding Title to the Plot\n",
    "plt.title(\"<Your Name>+ Scatter Plot\")\n",
    " \n",
    "# Setting the X and Y labels\n",
    "plt.xlabel('Day')\n",
    "plt.ylabel('Tip')\n",
    " \n",
    "plt.show()"
   ]
  },
  {
   "cell_type": "markdown",
   "id": "3c4adeb8-b5d1-40b8-87cc-88cdbdcd2a4f",
   "metadata": {},
   "source": [
    "### **Example 3**: Filter the data for a specific day (e.g., \"Sun\")"
   ]
  },
  {
   "cell_type": "code",
   "execution_count": null,
   "id": "11d443a0-69f9-4cf6-9acd-c3951504ae00",
   "metadata": {},
   "outputs": [],
   "source": [
    "# Example 3: Filter the data for a specific day (e.g., \"Sun\")\n",
    "sunday_tips = tips[tips['day'] == 'Sun']\n",
    "print(\"\\nNumber of tips on Sunday:\", len(sunday_tips))\n",
    "\n",
    "# Visualization 2: Scatter Plot for Total Bill vs. Tip on Sunday\n",
    "plt.figure(figsize=(8,6))\n",
    "plt.scatter(sunday_tips['total_bill'], sunday_tips['tip'], color='purple', alpha=0.7)\n",
    "plt.xlabel('Total Bill')\n",
    "plt.ylabel('Tip')\n",
    "plt.title('<Your Name>+ Total Bill vs Tip on Sunday')\n",
    "plt.grid(True, linestyle='--', alpha=0.7)\n",
    "plt.show()\n",
    "\n"
   ]
  },
  {
   "cell_type": "markdown",
   "id": "ad75fa34-a098-46b4-a294-3fafdaae37a5",
   "metadata": {},
   "source": [
    "### Example 3: If the 'time' column exists, filter for Lunch time and visualize"
   ]
  },
  {
   "cell_type": "code",
   "execution_count": null,
   "id": "f4efdc54-2e04-427b-8d62-34e2b181dd17",
   "metadata": {},
   "outputs": [],
   "source": [
    "# Example 4: \n",
    "if 'time' in tips.columns:\n",
    "    lunch_tips = tips[tips['time'] == 'Lunch']\n",
    "    print(\"\\nNumber of tips during Lunch time:\", len(lunch_tips))\n",
    "    \n",
    "    # Visualization 3: Histogram of Tips during Lunch\n",
    "    plt.figure(figsize=(8,6))\n",
    "    plt.hist(lunch_tips['tip'], bins=15, color='green', edgecolor='black', alpha=0.7)\n",
    "    plt.xlabel('Tip Amount')\n",
    "    plt.ylabel('Frequency')\n",
    "    plt.title('Distribution of Tips during Lunch Time')\n",
    "    plt.grid(True, linestyle='--', alpha=0.7)\n",
    "    plt.show()\n",
    "else:\n",
    "    print(\"\\nThe 'time' column is not present in the dataset.\")"
   ]
  }
 ],
 "metadata": {
  "kernelspec": {
   "display_name": "Python 3 (ipykernel)",
   "language": "python",
   "name": "python3"
  },
  "language_info": {
   "codemirror_mode": {
    "name": "ipython",
    "version": 3
   },
   "file_extension": ".py",
   "mimetype": "text/x-python",
   "name": "python",
   "nbconvert_exporter": "python",
   "pygments_lexer": "ipython3",
   "version": "3.11.8"
  }
 },
 "nbformat": 4,
 "nbformat_minor": 5
}
