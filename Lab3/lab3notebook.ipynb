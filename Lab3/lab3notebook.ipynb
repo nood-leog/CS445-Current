{
 "cells": [
  {
   "cell_type": "markdown",
   "id": "bfc7be5ddb8d0d24",
   "metadata": {},
   "source": [
    "# CS445 Lab 3 by Alex Boyce"
   ]
  },
  {
   "cell_type": "markdown",
   "id": "c6ab3c12c4db3b66",
   "metadata": {},
   "source": [
    "This dataset contains information about red wine quality.\n",
    "It includes all information about the wine, including chemical properties and quality rating.\n",
    "The dataset contains 11 features in total:\n",
    "fixed acidity,volatile acidity,citric acid,residual sugar,chlorides,free sulfur dioxide,total sulfur dioxide,density,pH,sulphates,alcohol,quality\n",
    "\n",
    "Sourced from https://github.com/plotly/datasets/blob/master/winequality-red.csv\\n"
   ]
  },
  {
   "cell_type": "code",
   "id": "initial_id",
   "metadata": {},
   "source": [
    "#Lab3.py\n",
    "\n",
    "# Data files:\n",
    "# winequality-red.csv\n",
    "\n",
    "import pandas as pd\n",
    "import plotly.express as px\n",
    "\n",
    "\n",
    "# ignore future warnings =\n",
    "import warnings\n",
    "warnings.filterwarnings('ignore', category=FutureWarning)\n",
    "\n",
    "# global dataset variable\n",
    "df = pd.read_csv('winequality-red.csv')\n",
    "\n",
    "# Print a portion of the raw data using head()\n",
    "def print_data_head():\n",
    "    # read the dataset\n",
    "    print(df.head())\n",
    "    print(\"\\nColumn names:\\n\", df.columns.tolist(), \"\\n\")\n",
    "\n",
    "print_data_head()"
   ],
   "outputs": [],
   "execution_count": null
  },
  {
   "cell_type": "markdown",
   "id": "5e30ccea2bb1a791",
   "metadata": {},
   "source": [
    "### **Fixed acidity vs Volatile acidity vs Quality**"
   ]
  },
  {
   "cell_type": "code",
   "id": "a09f666f63081832",
   "metadata": {},
   "source": [
    "def fixed_volatile_quality():\n",
    "    fig = px.scatter_3d(df,\n",
    "                        x='fixed acidity',\n",
    "                        y='volatile acidity',\n",
    "                        z='quality',\n",
    "                        color='quality',\n",
    "                        title='Fixed Acidity vs Volatile Acidity vs Quality')\n",
    "    fig.update_layout(scene_camera=dict(eye=dict(x=0, y=0, z=2)))\n",
    "    fig.show()\n",
    "fixed_volatile_quality() #1"
   ],
   "outputs": [],
   "execution_count": null
  },
  {
   "cell_type": "markdown",
   "id": "b9c9765d8f8ab2ea",
   "metadata": {},
   "source": [
    "This 3D scatter plot shows the relationship between fixed acidity, volatile acidity, and quality of red wine. This data shows that the higher the fixed acidity, the lower the volatile acidity. The data also suggests that wines with a higher fixed acidity and lower volatile acidity tend to have a higher quality rating."
   ]
  },
  {
   "cell_type": "markdown",
   "id": "594c9a7efe4f76a3",
   "metadata": {},
   "source": [
    "### **Alcohol vs Sulphates vs Quality**"
   ]
  },
  {
   "cell_type": "code",
   "id": "fb8adf992fd6f6e6",
   "metadata": {},
   "source": [
    "def alcohol_sulphates_quality():\n",
    "    fig = px.scatter_3d(df,\n",
    "                        x='alcohol',\n",
    "                        y='sulphates',\n",
    "                        z='quality',\n",
    "                        color='quality',\n",
    "                        title='Alcohol vs Sulphates vs Quality')\n",
    "    fig.update_layout(scene_camera=dict(eye=dict(x=2, y=2, z=0)))\n",
    "    fig.show()\n",
    "alcohol_sulphates_quality() #2"
   ],
   "outputs": [],
   "execution_count": null
  },
  {
   "cell_type": "markdown",
   "id": "1d8b7d0e227a46b7",
   "metadata": {},
   "source": [
    "This 3D scatter plot shows the relationship between alcohol, sulphates, and quality of red wine. This data shows that the higher the alcohol content, the higher the quality rating. The data also shows that higher sulphate level remain mostly in the 4-6 quality rating range, with a few outliers in the 7-8 quality rating range."
   ]
  },
  {
   "cell_type": "markdown",
   "id": "64d1a895418aaeef",
   "metadata": {},
   "source": [
    "### **Citric Acid vs pH vs Quality**"
   ]
  },
  {
   "cell_type": "code",
   "id": "180dd3a09a9c6639",
   "metadata": {},
   "source": [
    "def citric_ph_quality():\n",
    "    fig = px.scatter_3d(df,\n",
    "                        x='citric acid',\n",
    "                        y='pH',\n",
    "                        z='quality',\n",
    "                        color='quality',\n",
    "                        title='Citric Acid vs pH vs Quality')\n",
    "    fig.update_layout(scene_camera=dict(eye=dict(x=0, y=0, z=2)))\n",
    "    fig.show()\n",
    "\n",
    "citric_ph_quality() #3"
   ],
   "outputs": [],
   "execution_count": null
  },
  {
   "cell_type": "markdown",
   "id": "9db842cf44a7580e",
   "metadata": {},
   "source": [
    "This 3D scatter plot shows the relationship between citric acid, pH, and quality of red wine. Our data shows that there is a clear correlation between citric acid and pH, but there is no clear correlation between these variables and quality. This shows that citric acid levels and ph have little to no effect on quality rating."
   ]
  },
  {
   "cell_type": "markdown",
   "id": "997a45857aa605ad",
   "metadata": {},
   "source": [
    "### **Free SO2 vs Total SO2 vs Quality**"
   ]
  },
  {
   "cell_type": "code",
   "id": "d9bf62e840080f07",
   "metadata": {},
   "source": [
    "def so2_totalso2_quality():\n",
    "    fig = px.scatter_3d(df,\n",
    "                        x='free sulfur dioxide',\n",
    "                        y='total sulfur dioxide',\n",
    "                        z='quality',\n",
    "                        color='quality',\n",
    "                        title='Free SO₂ vs Total SO₂ vs Quality')\n",
    "    fig.update_layout(scene_camera=dict(eye=dict(x=0, y=0, z=2)))\n",
    "    fig.show()\n",
    "so2_totalso2_quality() #4"
   ],
   "outputs": [],
   "execution_count": null
  },
  {
   "cell_type": "markdown",
   "id": "f9a727c1fc260e19",
   "metadata": {},
   "source": [
    "This 3D scatter plot shows the relationship between free SO2, total SO2, and quality of red wine. This data shows that the wines with the least quality often have both the lowest free SO2, and the lowest total SO2- This trend does not seem to continue with quality. With that in mind, it does not seem as if free SO2 and total SO2 have a strong correlation with quality, although this could be due to the limited scope of the dataset."
   ]
  },
  {
   "cell_type": "markdown",
   "id": "8303880e6a680145",
   "metadata": {},
   "source": [
    "### **Density vs Residual Sugar vs Quality**"
   ]
  },
  {
   "cell_type": "code",
   "id": "354c84a96b8b2308",
   "metadata": {},
   "source": [
    "def density_sugar_quality():\n",
    "    fig = px.scatter_3d(df,\n",
    "                        x='density',\n",
    "                        y='residual sugar',\n",
    "                        z='quality',\n",
    "                        color='quality',\n",
    "                        title='Density vs Residual Sugar vs Quality')\n",
    "    fig.update_layout(scene_camera=dict(eye=dict(x=0, y=0, z=2)))\n",
    "    fig.show()\n",
    "density_sugar_quality() #5"
   ],
   "outputs": [],
   "execution_count": null
  },
  {
   "cell_type": "markdown",
   "id": "cfe4f5a42cb19364",
   "metadata": {},
   "source": [
    "This 3D scatter plot shows the relationship between density, residual sugar, and quality of red wine. This data shows that the lower the density, the lower the residual sugar. The data also suggests that wines with a lower density and lower residual sugar tend to have a higher quality rating."
   ]
  }
 ],
 "metadata": {
  "kernelspec": {
   "display_name": "Python 3 (ipykernel)",
   "language": "python",
   "name": "python3"
  },
  "language_info": {
   "codemirror_mode": {
    "name": "ipython",
    "version": 3
   },
   "file_extension": ".py",
   "mimetype": "text/x-python",
   "name": "python",
   "nbconvert_exporter": "python",
   "pygments_lexer": "ipython3",
   "version": "3.12.9"
  }
 },
 "nbformat": 4,
 "nbformat_minor": 5
}
