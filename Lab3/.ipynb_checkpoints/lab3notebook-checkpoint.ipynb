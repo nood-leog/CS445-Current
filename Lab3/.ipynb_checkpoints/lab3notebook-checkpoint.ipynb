{
 "cells": [
  {
   "metadata": {},
   "cell_type": "markdown",
   "source": "# CS445 Lab 3 by Alex Boyce",
   "id": "bfc7be5ddb8d0d24"
  },
  {
   "metadata": {},
   "cell_type": "markdown",
   "source": [
    "This dataset contains information about red wine quality.\n",
    "It includes all information about the wine, including chemical properties and quality rating.\n",
    "The dataset contains 11 features in total:\n",
    "fixed acidity,volatile acidity,citric acid,residual sugar,chlorides,free sulfur dioxide,total sulfur dioxide,density,pH,sulphates,alcohol,quality\n",
    "\n",
    "Sourced from https://github.com/plotly/datasets/blob/master/winequality-red.csv\\n"
   ],
   "id": "c6ab3c12c4db3b66"
  },
  {
   "metadata": {},
   "cell_type": "code",
   "source": [
    "#Lab3.py\n",
    "\n",
    "# Data files:\n",
    "# winequality-red.csv\n",
    "\n",
    "import pandas as pd\n",
    "import plotly.express as px\n",
    "\n",
    "\n",
    "# ignore future warnings =\n",
    "import warnings\n",
    "warnings.filterwarnings('ignore', category=FutureWarning)\n",
    "\n",
    "# global dataset variable\n",
    "df = pd.read_csv('winequality-red.csv')\n",
    "\n",
    "# Print a portion of the raw data using head()\n",
    "def print_data_head():\n",
    "    # read the dataset\n",
    "    print(df.head())\n",
    "    print(\"\\nColumn names:\\n\", df.columns.tolist(), \"\\n\")\n",
    "\n",
    "print_data_head()"
   ],
   "id": "initial_id",
   "outputs": [],
   "execution_count": null
  },
  {
   "metadata": {},
   "cell_type": "markdown",
   "source": "### **Fixed acidity vs Volatile acidity vs Quality**",
   "id": "5e30ccea2bb1a791"
  },
  {
   "metadata": {},
   "cell_type": "code",
   "source": [
    "def fixed_volatile_quality():\n",
    "    fig = px.scatter_3d(df,\n",
    "                        x='fixed acidity',\n",
    "                        y='volatile acidity',\n",
    "                        z='quality',\n",
    "                        color='quality',\n",
    "                        title='Fixed Acidity vs Volatile Acidity vs Quality')\n",
    "    fig.update_layout(scene_camera=dict(eye=dict(x=0, y=0, z=2)))\n",
    "    fig.show()\n",
    "fixed_volatile_quality() #1"
   ],
   "id": "a09f666f63081832",
   "outputs": [],
   "execution_count": null
  },
  {
   "metadata": {},
   "cell_type": "markdown",
   "source": "This 3D scatter plot shows the relationship between fixed acidity, volatile acidity, and quality of red wine. This data shows that the higher the fixed acidity, the lower the volatile acidity. The data also suggests that wines with a higher fixed acidity and lower volatile acidity tend to have a higher quality rating.",
   "id": "b9c9765d8f8ab2ea"
  },
  {
   "metadata": {},
   "cell_type": "markdown",
   "source": "### **Alcohol vs Sulphates vs Quality**",
   "id": "594c9a7efe4f76a3"
  },
  {
   "metadata": {},
   "cell_type": "code",
   "source": [
    "def alcohol_sulphates_quality():\n",
    "    fig = px.scatter_3d(df,\n",
    "                        x='alcohol',\n",
    "                        y='sulphates',\n",
    "                        z='quality',\n",
    "                        color='quality',\n",
    "                        title='Alcohol vs Sulphates vs Quality')\n",
    "    fig.update_layout(scene_camera=dict(eye=dict(x=2, y=2, z=0)))\n",
    "    fig.show()\n",
    "alcohol_sulphates_quality() #2"
   ],
   "id": "fb8adf992fd6f6e6",
   "outputs": [],
   "execution_count": null
  },
  {
   "metadata": {},
   "cell_type": "markdown",
   "source": "This 3D scatter plot shows the relationship between alcohol, sulphates, and quality of red wine. This data shows that the higher the alcohol content, the higher the sulphate content. The data also suggests that wines with a higher alcohol content and higher sulphate content tend to have a higher quality rating.",
   "id": "1d8b7d0e227a46b7"
  },
  {
   "metadata": {},
   "cell_type": "markdown",
   "source": "",
   "id": "64d1a895418aaeef"
  }
 ],
 "metadata": {
  "kernelspec": {
   "display_name": "Python 3",
   "language": "python",
   "name": "python3"
  },
  "language_info": {
   "codemirror_mode": {
    "name": "ipython",
    "version": 2
   },
   "file_extension": ".py",
   "mimetype": "text/x-python",
   "name": "python",
   "nbconvert_exporter": "python",
   "pygments_lexer": "ipython2",
   "version": "2.7.6"
  }
 },
 "nbformat": 4,
 "nbformat_minor": 5
}
