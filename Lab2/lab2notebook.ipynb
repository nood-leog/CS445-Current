{
 "cells": [
  {
   "metadata": {},
   "cell_type": "markdown",
   "source": "# CS445 Lab 2 by Alex Boyce",
   "id": "caae8bb9b2d246e4"
  },
  {
   "metadata": {},
   "cell_type": "markdown",
   "source": [
    "This dataset contains information about credit card holders in Taiwan.\n",
    "\n",
    "It includes some basic demographic information, like sex, age, education level, marital status and also includes information regarding payment history, and default status.\n",
    "\n",
    "Sourced from UCI Machine Learning Repository"
   ],
   "id": "ba13f4d3f0b9cc89"
  },
  {
   "metadata": {},
   "cell_type": "code",
   "source": [
    "import matplotlib.pyplot as plt\n",
    "import pandas as pd\n",
    "import seaborn as sea\n",
    "\n",
    "#ignore future warnings lol\n",
    "import warnings\n",
    "warnings.filterwarnings('ignore', category=FutureWarning)\n",
    "\n",
    "#global dataset variable\n",
    "df = pd.read_csv('default of credit card clients.csv', skiprows=1)#Print a portion of the raw data using head()\n",
    "def print_data_head():\n",
    "    #read the dataset\n",
    "    print(df.head())\n",
    "    print(\"\\nColumn names:\\n\", df.columns.tolist(), \"\\n\")\n",
    "\n",
    "print_data_head()"
   ],
   "id": "969a61305c68d19c",
   "outputs": [],
   "execution_count": null
  },
  {
   "metadata": {},
   "cell_type": "markdown",
   "source": "### **Heatmap Correlation**",
   "id": "ce37333f8bf5238c"
  },
  {
   "metadata": {},
   "cell_type": "code",
   "source": [
    "#heatmap correlation --- #1\n",
    "def heatmap_correlations():\n",
    "    plt.figure(figsize=(16, 12))\n",
    "\n",
    "    #only use numeric columns\n",
    "    numeric_df = df.select_dtypes(include='number')\n",
    "\n",
    "    #compute correlation matrix\n",
    "    correlation_matrix = numeric_df.corr()\n",
    "\n",
    "    #draw heatmap\n",
    "    sea.heatmap(correlation_matrix, annot=True, fmt='.2f', cmap='coolwarm', square=True, linewidths=.5)\n",
    "\n",
    "    #plot\n",
    "    plt.title('Correlation Heatmap of Credit Default Dataset', fontsize=16)\n",
    "    plt.tight_layout()\n",
    "    plt.savefig('boyce-heatmap-correlations.png')\n",
    "    plt.show()\n",
    "\n",
    "heatmap_correlations() #1"
   ],
   "id": "fd1a719e6890f103",
   "outputs": [],
   "execution_count": null
  },
  {
   "metadata": {},
   "cell_type": "markdown",
   "source": [
    "The heatmap correlation visualization shows the correlation between the different features in the dataset.\n",
    "The correlation values range from -1 to 1, where -1 indicates a strong negative correlation, 0 indicates no correlation, and 1 indicates a strong positive correlation.\n",
    "The correlation values are color coded, with red being a strong positive correlation and blue being a strong negative correlation.\n",
    "With this information, we can see that the most correlated, and furthest from the center features are the LIMIT_BAL and Bill amounts. This might be expected, as the more money you have, the more you are likely to spend."
   ],
   "id": "e22f4b011a9965b0"
  },
  {
   "metadata": {},
   "cell_type": "markdown",
   "source": "### **Credit by Age Bargraph**",
   "id": "74a84337eae0af5"
  },
  {
   "metadata": {},
   "cell_type": "code",
   "source": [
    "#barchart with avg bal limit-y and age-x --- #2\n",
    "def bar_creditbyage():\n",
    "    plt.figure(figsize=(12, 6))\n",
    "    sea.barplot(x='AGE', y='LIMIT_BAL', data=df, palette= 'viridis')\n",
    "    plt.title('Average Credit Limit by Age', fontsize=14)\n",
    "    plt.xlabel('Age')\n",
    "    plt.ylabel('Average Credit Limit')\n",
    "    plt.xticks(rotation=45)\n",
    "    plt.tight_layout()\n",
    "    plt.savefig('boyce-bar-creditbyage.png')\n",
    "    plt.show()\n",
    "\n",
    "bar_creditbyage() #2"
   ],
   "id": "initial_id",
   "outputs": [],
   "execution_count": null
  },
  {
   "metadata": {},
   "cell_type": "markdown",
   "source": [
    "The Credit by Age Bargraph visualization shows the average credit limits for a specific age population.\n",
    "With this data visualized, we can see that the average credit limit increases with age, but there are some outliers, particularly after the age of 60.\n",
    "This data visualization is interesting because there seems to be 3 distinct trends: Large growth until the age of 30, a slow decline from 30 to 60, and unpredictable credit limits passed the age of 60.\n",
    "Based on this data, we can assume an average persons credit limit will slowly trend upwards through their life.\n"
   ],
   "id": "2a629c9c37bcac68"
  },
  {
   "metadata": {},
   "cell_type": "markdown",
   "source": "### **Credit limit and Education Boxplot**",
   "id": "ae155d721aa877f9"
  },
  {
   "metadata": {},
   "cell_type": "code",
   "source": [
    "#boxplot with credit limit-y and education-x --- #3\n",
    "def boxplot_limiteducation():\n",
    "    plt.figure(figsize=(10, 6))\n",
    "\n",
    "    #map education codes to readable labels\n",
    "    edu_labels = {\n",
    "        1: 'Graduate School',\n",
    "        2: 'University',\n",
    "        3: 'High School',\n",
    "        4: 'Others'\n",
    "    }\n",
    "\n",
    "    #ignore education levels 0, 5, 6 because they are in the dataset but not documented by the source for whatever reason\n",
    "    filtered_df = df[df['EDUCATION'].isin(edu_labels.keys())].copy()\n",
    "    filtered_df['EDUCATION_LABEL'] = filtered_df['EDUCATION'].map(edu_labels)\n",
    "\n",
    "    sea.boxplot(x='EDUCATION_LABEL', y='LIMIT_BAL', data=filtered_df, palette='Set2')\n",
    "\n",
    "    #plot\n",
    "    plt.title('Distribution of Credit Limits by Education Level', fontsize=14)\n",
    "    plt.xlabel('Education Level', fontsize=12)\n",
    "    plt.ylabel('Credit Limit', fontsize=12)\n",
    "    plt.xticks(rotation=30)\n",
    "    plt.tight_layout()\n",
    "    plt.savefig('boyce-boxplot-limiteducation.png')\n",
    "    plt.show()\n",
    "\n",
    "boxplot_limiteducation() #3"
   ],
   "id": "ef39ede3f522bb18",
   "outputs": [],
   "execution_count": null
  },
  {
   "metadata": {},
   "cell_type": "markdown",
   "source": "The Credit Limit and Education Boxplot visualization shows the distribution of credit limits by education level. There are 4 education levels in the dataset, Graduate School, University, High School, and Others. We can see how those who attended graduate school have the highest average credit limit, and those who attended high school have the lowest average credit limit. This data would be useful to a bank or lender, as they could use this data to determine a credit limit range for someone of a specific education level.",
   "id": "4cb214fc1bb2094f"
  },
  {
   "metadata": {},
   "cell_type": "markdown",
   "source": "### **Default Rate Barplot by Credit Limit**",
   "id": "9506a93e44b298c9"
  },
  {
   "metadata": {},
   "cell_type": "code",
   "source": [
    "#barplot for credit limit-x and average default rate-y --- 4\n",
    "def barplot_DefaultRate():\n",
    "    #rounded bins\n",
    "    bins = [0, 50000, 100000, 150000, 200000, 250000, 300000, 350000, 400000, 450000, 500000, 550000, 600000, 650000, 700000, df['LIMIT_BAL'].max()]\n",
    "    labels = ['0–50k', '50k–100k', '100k–150k', '150k–200k', '200k-250k', '250k-300k', '300k-350k', '350k-400k', '400k-450k', '450k-500k', '500k-550k', '550k-600k', '600k-650k', '650k-700k', '700k-750k+']\n",
    "\n",
    "    #create the bin column\n",
    "    df['LIMIT_BIN'] = pd.cut(df['LIMIT_BAL'], bins=bins, labels=labels, include_lowest=True)\n",
    "\n",
    "    #find the mean default rate per bin\n",
    "    grouped = df.groupby('LIMIT_BIN')['default payment next month'].mean().reset_index()\n",
    "\n",
    "    plt.figure(figsize=(14, 6))\n",
    "    sea.barplot(x='LIMIT_BIN', y='default payment next month', data=grouped, palette='coolwarm')\n",
    "\n",
    "    #plot\n",
    "    plt.title('Average Default Rate by Credit Limit Bracket', fontsize=14)\n",
    "    plt.xlabel('Credit Limit Bracket', fontsize=12)\n",
    "    plt.ylabel('Default Rate (Proportion)', fontsize=12)\n",
    "    plt.ylim(0, 1)\n",
    "    plt.tight_layout()\n",
    "    plt.savefig('boyce-bargraph-defaultrate.png')\n",
    "    plt.show()\n",
    "\n",
    "barplot_DefaultRate() #4"
   ],
   "id": "27693d522e8cad30",
   "outputs": [],
   "execution_count": null
  },
  {
   "metadata": {},
   "cell_type": "markdown",
   "source": "The Default Rate Barplot by Credit Limit visualization shows the average default rate by credit limit bracket. The data is binned into 15 brackets, and the average default rate is calculated for each bin. We can see that the default rate is highest in the 0-50k bracket, and slowly decreases as the credit limit increases. This data might also be useful to a bank or lender, as they could use this data to predict default risk based on credit limit.",
   "id": "ae764a11d2c5b90a"
  },
  {
   "metadata": {},
   "cell_type": "markdown",
   "source": "### **Financial Metrics Pairplot**",
   "id": "926e937cde600bc9"
  },
  {
   "metadata": {},
   "cell_type": "code",
   "source": [
    "def pairplot_financial():\n",
    "    #calulate totals\n",
    "    df['TOTAL_BILLS'] = df[[f'BILL_AMT{i}' for i in range(1, 7)]].sum(axis=1)\n",
    "    df['TOTAL_PAYMENTS'] = df[[f'PAY_AMT{i}' for i in range(1, 7)]].sum(axis=1)\n",
    "\n",
    "    #pairplot features\n",
    "    features = ['LIMIT_BAL', 'TOTAL_BILLS', 'TOTAL_PAYMENTS', 'AGE', 'default payment next month']\n",
    "    pair_df = df[features].copy()\n",
    "\n",
    "    #rename column from the dataset to something more readable\n",
    "    pair_df.rename(columns={'default payment next month': 'Default'}, inplace=True)\n",
    "\n",
    "    #plot\n",
    "    sea.pairplot(pair_df, hue='Default', palette='coolwarm', diag_kind='kde', corner=True)\n",
    "    plt.title('Pairplot of Financial Metrics', fontsize=16, y=3.5)\n",
    "    plt.savefig('boyce-pairplot-financial.png')\n",
    "    plt.show()\n",
    "\n",
    "pairplot_financial() #5"
   ],
   "id": "d3997d38244462ea",
   "outputs": [],
   "execution_count": null
  },
  {
   "metadata": {},
   "cell_type": "markdown",
   "source": "The Financial Metrics Pairplot visualization shows the relationship between the different financial metrics in the dataset. The pairplot shows the scatterplot of each feature against each other, and the diagonal shows the distribution of each feature. The data is colored with red indicating default and blue indicating no default. Similar to the broadness of the Heatmap, this data is useful for understanding the relationships between the different financial metrics, and how much defaulting within a group occurs.",
   "id": "b60cfee85be2f600"
  }
 ],
 "metadata": {
  "kernelspec": {
   "display_name": "Python 3",
   "language": "python",
   "name": "python3"
  },
  "language_info": {
   "codemirror_mode": {
    "name": "ipython",
    "version": 2
   },
   "file_extension": ".py",
   "mimetype": "text/x-python",
   "name": "python",
   "nbconvert_exporter": "python",
   "pygments_lexer": "ipython2",
   "version": "2.7.6"
  }
 },
 "nbformat": 4,
 "nbformat_minor": 5
}
