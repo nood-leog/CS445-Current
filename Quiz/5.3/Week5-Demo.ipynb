{
 "cells": [
  {
   "cell_type": "markdown",
   "metadata": {},
   "source": [
    "# Week5 - Learn geopandas by plotting tornados on a map"
   ]
  },
  {
   "cell_type": "markdown",
   "metadata": {},
   "source": [
    "In this tutorial we will take a look at the powerful *geopandas* library and use it to plot historical tornado data on a map of the United States."
   ]
  },
  {
   "cell_type": "markdown",
   "metadata": {},
   "source": [
    "### Here are the commands you will need to run if have not already install geopandas\n",
    "#### Prerequisites \n",
    "```\n",
    "conda install geopandas\n",
    "conda install -c conda-forge descartes\n",
    "conda update geopandas\n",
    "\n",
    "or try\n",
    "pip install geopandas\n",
    "pip install --upgrade geopandas\n",
    "pip install --upgrade fiona\n",
    "\n",
    "```"
   ]
  },
  {
   "cell_type": "markdown",
   "metadata": {},
   "source": [
    "The data we will be working with comes from the US Census and is in a common shapefile format."
   ]
  },
  {
   "cell_type": "code",
   "execution_count": null,
   "metadata": {},
   "outputs": [],
   "source": [
    "ls -al data"
   ]
  },
  {
   "cell_type": "markdown",
   "metadata": {},
   "source": [
    "### Import geopandas and load the U.S. map shapefile"
   ]
  },
  {
   "cell_type": "code",
   "execution_count": null,
   "metadata": {
    "scrolled": true
   },
   "outputs": [],
   "source": [
    "import matplotlib.pyplot as plt\n",
    "import geopandas\n",
    "\n",
    "states = geopandas.read_file('data/usa-states-census-2014.shp')"
   ]
  },
  {
   "cell_type": "code",
   "execution_count": null,
   "metadata": {},
   "outputs": [],
   "source": [
    "states.head()"
   ]
  },
  {
   "cell_type": "markdown",
   "metadata": {},
   "source": [
    "### Reproject coordinates"
   ]
  },
  {
   "cell_type": "markdown",
   "metadata": {},
   "source": [
    "By default this shp file is in WGS 84."
   ]
  },
  {
   "cell_type": "code",
   "execution_count": null,
   "metadata": {},
   "outputs": [],
   "source": [
    "states.crs #Coordinate Reference System"
   ]
  },
  {
   "cell_type": "markdown",
   "metadata": {},
   "source": [
    "To make the map look a little more familiar lets reproject it's coordinates to **Mercator**.\n",
    "\n",
    "geopandas requires we know the geospatial reference system identifier so here is a list of common ones.\n",
    "\n",
    "* **\"EPSG:4326\"** WGS84 Latitude/Longitude, used in GPS\n",
    "* **\"EPSG:3395\"** Spherical Mercator. Google Maps, OpenStreetMap, Bing Maps\n",
    "* **\"EPSG:32633\"** UTM Zones (North) - (Universal Transverse Mercator)\n",
    "* **\"EPSG:32733\"** UTM Zones (South) - (Universal Transverse Mercator)"
   ]
  },
  {
   "cell_type": "code",
   "execution_count": null,
   "metadata": {},
   "outputs": [],
   "source": [
    "states = states.to_crs(\"EPSG:3395\")"
   ]
  },
  {
   "cell_type": "markdown",
   "metadata": {},
   "source": [
    "Now lets plot the U.S. map and see what we get"
   ]
  },
  {
   "cell_type": "code",
   "execution_count": null,
   "metadata": {},
   "outputs": [],
   "source": [
    "states.plot()"
   ]
  },
  {
   "cell_type": "markdown",
   "metadata": {},
   "source": [
    "We can also plot the state polygons with no fill color by using boundary"
   ]
  },
  {
   "cell_type": "code",
   "execution_count": null,
   "metadata": {},
   "outputs": [],
   "source": [
    "states.boundary.plot()"
   ]
  },
  {
   "cell_type": "code",
   "execution_count": null,
   "metadata": {},
   "outputs": [],
   "source": [
    "west = states[states['region'] == 'West']\n",
    "west"
   ]
  },
  {
   "cell_type": "code",
   "execution_count": null,
   "metadata": {},
   "outputs": [],
   "source": [
    "west = states[states['region'] == 'West']\n",
    "\n",
    "west.plot(cmap='Pastel2', figsize=(12, 12))"
   ]
  },
  {
   "cell_type": "markdown",
   "metadata": {},
   "source": [
    "### Add outlines and labels to each State\n",
    "\n",
    "Here is another plot of the U.S West but this time we are going to use a lambda function to plot the state name over each state.  We also plotting the state shapes with a black outline.\n",
    "\n",
    "As a bonus code snippet,  I have added a vertical watermark to the left side of the image."
   ]
  },
  {
   "cell_type": "code",
   "execution_count": null,
   "metadata": {},
   "outputs": [],
   "source": [
    "fig = plt.figure(1, figsize=(25,15)) \n",
    "ax = fig.add_subplot()\n",
    "\n",
    "west.apply(lambda x: ax.annotate(x.NAME, xy=x.geometry.centroid.coords[0], ha='center', fontsize=14), axis=1)\n",
    "\n",
    "west.boundary.plot(ax=ax, color='Red', linewidth=.6)\n",
    "\n",
    "west.plot(ax=ax, cmap='Pastel2', figsize=(12, 12))\n",
    "\n",
    "ax.text(-0.05, 0.5, 'West Map', transform=ax.transAxes,\n",
    "        fontsize=20, color='gray', alpha=0.5,\n",
    "        ha='center', va='center', rotation=90)"
   ]
  },
  {
   "cell_type": "markdown",
   "metadata": {},
   "source": [
    "### Load the NOAA US tornado dataset \n",
    "\n",
    "Source: https://www.spc.noaa.gov/gis/svrgis/"
   ]
  },
  {
   "cell_type": "markdown",
   "metadata": {},
   "source": [
    "One of the cool features of geopandas is that you can load a shapefile directly from a zip archive without first unzipping it.  The file path to open a zipped shapefile is prefixed with `zip://`\n",
    "\n",
    "However, there is a caveat.  If the zip archive contains a subfolder you must specify it by appending `!foldername` to the path."
   ]
  },
  {
   "cell_type": "code",
   "execution_count": null,
   "metadata": {},
   "outputs": [],
   "source": [
    "ls -al  data"
   ]
  },
  {
   "cell_type": "markdown",
   "metadata": {},
   "source": [
    "### Load the shapefile from zip archive"
   ]
  },
  {
   "cell_type": "markdown",
   "metadata": {},
   "source": [
    "We will use the above mentioned technique to load the `1950-2018-torn-initpoint.shp` shapefile from the zip archive."
   ]
  },
  {
   "cell_type": "code",
   "execution_count": null,
   "metadata": {},
   "outputs": [],
   "source": [
    "tornados = geopandas.read_file('zip://data/1950-2018-torn-initpoint.zip!1950-2018-torn-initpoint')"
   ]
  },
  {
   "cell_type": "markdown",
   "metadata": {},
   "source": [
    "<font color=\"green\">\n",
    "Note: If loading from inside a zip file confuses you don't let is slow you down, just unzip the archive.\n",
    "</font>"
   ]
  },
  {
   "cell_type": "markdown",
   "metadata": {},
   "source": [
    "Lets have a look at the DataFrame"
   ]
  },
  {
   "cell_type": "code",
   "execution_count": null,
   "metadata": {},
   "outputs": [],
   "source": [
    "tornados.shape"
   ]
  },
  {
   "cell_type": "code",
   "execution_count": null,
   "metadata": {
    "scrolled": true
   },
   "outputs": [],
   "source": [
    "tornados.info()"
   ]
  },
  {
   "cell_type": "code",
   "execution_count": null,
   "metadata": {},
   "outputs": [],
   "source": [
    "tornados.head(10)"
   ]
  },
  {
   "cell_type": "markdown",
   "metadata": {},
   "source": [
    "#### Reproject coordinates"
   ]
  },
  {
   "cell_type": "markdown",
   "metadata": {},
   "source": [
    "We will also need to reproject it's coordinates to **Mercator** so that our maps line up."
   ]
  },
  {
   "cell_type": "code",
   "execution_count": null,
   "metadata": {},
   "outputs": [],
   "source": [
    "tornados = tornados.to_crs(\"EPSG:3395\")"
   ]
  },
  {
   "cell_type": "markdown",
   "metadata": {},
   "source": [
    "Take note how reprojecting our coordinates to Mercator moves the decimal point in our lat, long data.  This will come into play later."
   ]
  },
  {
   "cell_type": "code",
   "execution_count": null,
   "metadata": {},
   "outputs": [],
   "source": [
    "tornados[:1].geometry"
   ]
  },
  {
   "cell_type": "markdown",
   "metadata": {},
   "source": [
    "### Our first plot of U.S. tornado data"
   ]
  },
  {
   "cell_type": "code",
   "execution_count": null,
   "metadata": {},
   "outputs": [],
   "source": [
    "tornados.plot( figsize=(12,9), color='red', marker='x', markersize=1)"
   ]
  },
  {
   "cell_type": "markdown",
   "metadata": {},
   "source": [
    "### Now lets plot the tornados data on top of the U.S. basemap"
   ]
  },
  {
   "cell_type": "code",
   "execution_count": null,
   "metadata": {},
   "outputs": [],
   "source": [
    "import matplotlib.pyplot as plt\n",
    "fig = plt.figure(1, figsize=(12,9)) \n",
    "ax = fig.add_subplot()\n",
    "states.boundary.plot(ax=ax, color='black', linewidth=.8)\n",
    "\n",
    "tornados.plot(ax=ax, color='red', marker='.', markersize=1)"
   ]
  },
  {
   "cell_type": "markdown",
   "metadata": {},
   "source": [
    "### Great!\n",
    "\n",
    "We even chose an ominous red v-shaped marker to represent the tornados.  The two maps line up perfectly but it looks like we have some outliers data for Hawaii, Alaska, and Puerto Rico that are stretching out our map canvas.\n",
    "\n",
    "We want to focus on the lower 48 states so now we need to narrow down our view.  We can accomplish this in a couple of ways. One way is to remove any tornados from our dataframe that are not in the lower 48.  Another approach is to simply limit the viewport area of the map with `ax.set_xlim()` and `ax.set_ylim()`.\n",
    "\n",
    "Our first thought might be to pass in typical lat,long data such as `ax.set_xlim(-101.12345, 72.12345)`.  After we reprojected our maps to Mercator our coordinates data now look like this `ax.set_xlim(-10112345, 7212345)`."
   ]
  },
  {
   "cell_type": "code",
   "execution_count": null,
   "metadata": {},
   "outputs": [],
   "source": [
    "import matplotlib.pyplot as plt\n",
    "fig = plt.figure(1, figsize=(12,9)) \n",
    "ax = fig.add_subplot()\n",
    "\n",
    "# US Lower 48 Bounding Box\n",
    "# -141.00000, 26.00000, -65.50000, 72.00000\n",
    "\n",
    "ax.set_xlim(-14100244, -7200000)\n",
    "ax.set_ylim(2600000, 6550000)\n",
    "\n",
    "fig.suptitle('<Yourname>+United States Tornado Map (1950-2018)', fontsize=16)\n",
    "\n",
    "states.boundary.plot(ax=ax, color='black', linewidth=.8)\n",
    "\n",
    "tornados.plot(ax=ax, color='red', marker='v', markersize=8)\n",
    "ax.text(-0.05, 0.5, 'Tornado', transform=ax.transAxes,\n",
    "        fontsize=20, color='black', alpha=0.5,\n",
    "        ha='center', va='center', rotation=90)"
   ]
  },
  {
   "cell_type": "markdown",
   "metadata": {},
   "source": [
    "Hey! That was a success, now let's press on."
   ]
  },
  {
   "cell_type": "markdown",
   "metadata": {},
   "source": [
    "### Get total tornados by State"
   ]
  },
  {
   "cell_type": "markdown",
   "metadata": {},
   "source": [
    "I already know the answer to this question (because its my home) but...\n",
    "\n",
    "Which state do you think has had the most tornados?\n",
    "\n",
    "> *Hint: In Texas we call them twisters*"
   ]
  },
  {
   "cell_type": "code",
   "execution_count": null,
   "metadata": {},
   "outputs": [],
   "source": [
    "# Create a copy of the original DataFrame\n",
    "twisters_by_state = tornados.copy()\n",
    "# Add a new column and set the value to 1\n",
    "twisters_by_state['tornados'] = 1\n",
    "\n",
    "# use groupby() and count() to total up all the tornadoes by state\n",
    "twisters_by_state = twisters_by_state[['st','tornados']].groupby('st').count()\n",
    "\n",
    "# sort by most tornadoes first\n",
    "twisters_by_state.sort_values('tornados', ascending=False).head(10)"
   ]
  },
  {
   "cell_type": "markdown",
   "metadata": {},
   "source": [
    "Yep, Texas has the most tornados! \n",
    "\n",
    "We can also easily plot this data by calling plot()"
   ]
  },
  {
   "cell_type": "code",
   "execution_count": null,
   "metadata": {},
   "outputs": [],
   "source": [
    "twisters_by_state.plot.bar(figsize=(12,6), title='Tornados by State (1950-2018)')"
   ]
  },
  {
   "cell_type": "markdown",
   "metadata": {},
   "source": [
    "Notice that our sorting did not stick, this is because we did not reassign the DataFrame only output it to the screen.\n",
    "\n",
    "We can chain in a call to `.sort_values()` to get our ordering to work in the plot.\n",
    "\n",
    "I will also select the top 10 be adding `[:10]` which means \"slice first 10 rows\".\n",
    "\n",
    "Now we can see our state labels a little better."
   ]
  },
  {
   "cell_type": "code",
   "execution_count": null,
   "metadata": {},
   "outputs": [],
   "source": [
    "twisters_by_state.sort_values('tornados', ascending=False)[:10].plot.bar(figsize=(12,6), title='Tornados by State (Top 10)')"
   ]
  },
  {
   "cell_type": "markdown",
   "metadata": {},
   "source": [
    "If we just want a list of the top 10 states we can do something like this."
   ]
  },
  {
   "cell_type": "code",
   "execution_count": null,
   "metadata": {},
   "outputs": [],
   "source": [
    "top10 = twisters_by_state.sort_values('tornados', ascending=False)[:10].index\n",
    "top10"
   ]
  },
  {
   "cell_type": "markdown",
   "metadata": {},
   "source": [
    "### Plot tornados by state"
   ]
  },
  {
   "cell_type": "markdown",
   "metadata": {},
   "source": [
    "Now that we know that Texas has had the most tornados lets subset our tornado dataset to only show ***Texas Twisters***."
   ]
  },
  {
   "cell_type": "code",
   "execution_count": null,
   "metadata": {},
   "outputs": [],
   "source": [
    "texas_map = states[states['NAME'] == 'Texas']\n",
    "texas_map.plot()"
   ]
  },
  {
   "cell_type": "code",
   "execution_count": null,
   "metadata": {
    "scrolled": true
   },
   "outputs": [],
   "source": [
    "texas_twisters = tornados[tornados['st'] == 'TX']\n",
    "\n",
    "texas_twisters"
   ]
  },
  {
   "cell_type": "code",
   "execution_count": null,
   "metadata": {},
   "outputs": [],
   "source": [
    "texas_twisters.plot(markersize=1)"
   ]
  },
  {
   "cell_type": "markdown",
   "metadata": {},
   "source": [
    "Now that we have both of our DataFrames `texas_map` and `texas_twisters` lets overlay combine and plot them."
   ]
  },
  {
   "cell_type": "code",
   "execution_count": null,
   "metadata": {},
   "outputs": [],
   "source": [
    "import matplotlib.pyplot as plt\n",
    "fig = plt.figure(1, figsize=(10,10)) \n",
    "ax = fig.add_subplot()\n",
    "\n",
    "# Adjust bounding box to only Texas\n",
    "# -119.00000, 29.30000, -103.80000, 44.00000\n",
    "\n",
    "ax.set_xlim(-11910000, -10380000)\n",
    "ax.set_ylim(2930000, 4400000)\n",
    "\n",
    "fig.suptitle('<Yourname>+Texas Tornados (1950-2018)', fontsize=16)\n",
    "\n",
    "texas_map.boundary.plot(ax=ax, color='black', linewidth=.8)\n",
    "\n",
    "texas_twisters.plot(ax=ax, color='red', marker='v', markersize=20)"
   ]
  },
  {
   "cell_type": "markdown",
   "metadata": {},
   "source": [
    "Now lets move over to the path shapefile and see what we have to work with."
   ]
  },
  {
   "cell_type": "markdown",
   "metadata": {},
   "source": [
    "### Load the NOAA US tornado paths dataset "
   ]
  },
  {
   "cell_type": "code",
   "execution_count": null,
   "metadata": {},
   "outputs": [],
   "source": [
    "tornado_paths = geopandas.read_file('zip://data/1950-2018-torn-aspath.zip!1950-2018-torn-aspath')"
   ]
  },
  {
   "cell_type": "code",
   "execution_count": null,
   "metadata": {},
   "outputs": [],
   "source": [
    "tornado_paths.head()"
   ]
  },
  {
   "cell_type": "markdown",
   "metadata": {},
   "source": [
    "Reproject to Mercator"
   ]
  },
  {
   "cell_type": "code",
   "execution_count": null,
   "metadata": {},
   "outputs": [],
   "source": [
    "tornado_paths = tornado_paths.to_crs(\"EPSG:3395\")"
   ]
  },
  {
   "cell_type": "code",
   "execution_count": null,
   "metadata": {},
   "outputs": [],
   "source": [
    "tornado_paths.plot(figsize=(14,8))"
   ]
  },
  {
   "cell_type": "code",
   "execution_count": null,
   "metadata": {},
   "outputs": [],
   "source": [
    "texas_twister_paths = tornado_paths[tornado_paths['st'] == 'TX']\n",
    "texas_twister_paths.head()"
   ]
  },
  {
   "cell_type": "markdown",
   "metadata": {},
   "source": [
    "### Plot tornado points and paths for Texas"
   ]
  },
  {
   "cell_type": "markdown",
   "metadata": {},
   "source": [
    "Now that we have our tornado paths DataFrame narrowed down to Texas lets plot the paths.\n",
    "\n",
    "For this next map I will plot the start point of each Tornado as pink and the path data as Red.\n",
    "\n",
    "As you can see, path data does not exist for all recorded tornados."
   ]
  },
  {
   "cell_type": "code",
   "execution_count": null,
   "metadata": {},
   "outputs": [],
   "source": [
    "import matplotlib.pyplot as plt\n",
    "fig = plt.figure(1, figsize=(10,10)) \n",
    "ax = fig.add_subplot()\n",
    "\n",
    "# Adjust bounding box to only Texas\n",
    "# -119.00000, 29.30000, -103.80000, 44.00000\n",
    "\n",
    "ax.set_xlim(-11910000, -10380000)\n",
    "ax.set_ylim(2930000, 4400000)\n",
    "\n",
    "fig.suptitle('<Yourname>+Texas Tornado Paths (1950-2018)', fontsize=16)\n",
    "\n",
    "texas_map.boundary.plot(ax=ax, color='black', linewidth=.8)\n",
    "texas_twisters.plot(ax=ax, color='pink', marker='v', markersize=10)\n",
    "texas_twister_paths.plot(ax=ax, color='red')"
   ]
  },
  {
   "cell_type": "markdown",
   "metadata": {},
   "source": [
    "### Color coded tornados by year"
   ]
  },
  {
   "cell_type": "markdown",
   "metadata": {},
   "source": [
    "In this variation of the Texas tornado map we are color coding the tornado markers and paths by year with a colormap file.  To do this we add the parameter `column='yr'` to the call to `plot()`.\n",
    "\n",
    "The colormap used `cmap='coolwarm'` allows us to see older tornado records as cool blue colors and more recent tornados as warm red colors.  Note that we also removed the `color` parameter as cmap and color cannot be used simultaneously."
   ]
  },
  {
   "cell_type": "code",
   "execution_count": null,
   "metadata": {},
   "outputs": [],
   "source": [
    "import matplotlib.pyplot as plt\n",
    "fig = plt.figure(1, figsize=(10,10)) \n",
    "ax = fig.add_subplot()\n",
    "\n",
    "# Adjust bounding box to only Texas\n",
    "# -119.00000, 29.30000, -103.80000, 44.00000\n",
    "\n",
    "ax.set_xlim(-11910000, -10380000)\n",
    "ax.set_ylim(2930000, 4400000)\n",
    "\n",
    "fig.suptitle('<Yourname>+Texas Tornado Paths (1950-2018)', fontsize=16)\n",
    "\n",
    "texas_map.boundary.plot(ax=ax, color='black', linewidth=.8)\n",
    "texas_twisters.plot(ax=ax, column='yr', cmap=\"coolwarm\", marker='v', markersize=10)\n",
    "texas_twister_paths.plot(ax=ax, column='yr', cmap=\"coolwarm\")"
   ]
  },
  {
   "cell_type": "markdown",
   "metadata": {},
   "source": [
    "Congratulations, you are well on your way to becoming a GIS expert with `geopandas`. "
   ]
  },
  {
   "cell_type": "code",
   "execution_count": null,
   "metadata": {},
   "outputs": [],
   "source": []
  }
 ],
 "metadata": {
  "kernelspec": {
   "display_name": "Python 3 (ipykernel)",
   "language": "python",
   "name": "python3"
  },
  "language_info": {
   "codemirror_mode": {
    "name": "ipython",
    "version": 3
   },
   "file_extension": ".py",
   "mimetype": "text/x-python",
   "name": "python",
   "nbconvert_exporter": "python",
   "pygments_lexer": "ipython3",
   "version": "3.11.8"
  }
 },
 "nbformat": 4,
 "nbformat_minor": 4
}
