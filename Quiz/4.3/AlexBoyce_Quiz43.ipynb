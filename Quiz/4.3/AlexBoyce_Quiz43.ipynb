{
 "cells": [
  {
   "cell_type": "markdown",
   "metadata": {},
   "source": [
    "# Three-Dimensional Plotting"
   ]
  },
  {
   "cell_type": "markdown",
   "metadata": {},
   "source": [
    "Matplotlib was initially designed with only two-dimensional plotting in mind.\n",
    "Around the time of the 1.0 release, some three-dimensional plotting utilities were built on top of Matplotlib's two-dimensional display, and the result is a convenient (if somewhat limited) set of tools for three-dimensional data visualization.\n",
    "Three-dimensional plots are enabled by importing the `mplot3d` toolkit, included with the main Matplotlib installation:"
   ]
  },
  {
   "cell_type": "code",
   "metadata": {
    "collapsed": false,
    "jupyter": {
     "outputs_hidden": false
    }
   },
   "source": [
    "from mpl_toolkits import mplot3d"
   ],
   "outputs": [],
   "execution_count": null
  },
  {
   "cell_type": "markdown",
   "metadata": {},
   "source": [
    "Once this submodule is imported, a three-dimensional axes can be created by passing the keyword `projection='3d'` to any of the normal axes creation routines, as shown here (see the following figure):"
   ]
  },
  {
   "cell_type": "code",
   "metadata": {
    "tags": []
   },
   "source": [
    "%matplotlib inline\n",
    "import numpy as np\n",
    "import matplotlib.pyplot as plt"
   ],
   "outputs": [],
   "execution_count": null
  },
  {
   "cell_type": "markdown",
   "metadata": {},
   "source": [
    "With this three-dimensional axes enabled, we can now plot a variety of three-dimensional plot types. \n",
    "Three-dimensional plotting is one of the functionalities that benefits immensely from viewing figures interactively rather than statically, in the notebook; recall that to use interactive figures, you can use `%matplotlib notebook` rather than `%matplotlib inline` when running this code."
   ]
  },
  {
   "cell_type": "code",
   "metadata": {
    "collapsed": false,
    "jupyter": {
     "outputs_hidden": false
    }
   },
   "source": [
    "fig = plt.figure()\n",
    "ax = plt.axes(projection='3d')\n",
    "plt.show()"
   ],
   "outputs": [],
   "execution_count": null
  },
  {
   "cell_type": "markdown",
   "metadata": {},
   "source": [
    "## Three-Dimensional Points and Lines\n",
    "\n",
    "The most basic three-dimensional plot is a line or collection of scatter plots created from sets of (x, y, z) triples.\n",
    "In analogy with the more common two-dimensional plots discussed earlier, these can be created using the `ax.plot3D` and `ax.scatter3D` functions.\n",
    "The call signature for these is nearly identical to that of their two-dimensional counterparts, so you can refer to [Simple Line Plots](04.01-Simple-Line-Plots.ipynb) and [Simple Scatter Plots](04.02-Simple-Scatter-Plots.ipynb) for more information on controlling the output.\n",
    "Here we'll plot a trigonometric spiral, along with some points drawn randomly near the line (see the following figure):"
   ]
  },
  {
   "cell_type": "markdown",
   "metadata": {},
   "source": [
    "### 2D Sin & Cos"
   ]
  },
  {
   "cell_type": "code",
   "metadata": {},
   "source": [
    "# Generate x values from 0 to 15\n",
    "x = np.linspace(0, 15, 1000)\n",
    "\n",
    "# Compute sin(x) and cos(x)\n",
    "sin_x = np.sin(x)\n",
    "cos_x = np.cos(x)\n",
    "\n",
    "# Create a figure with a specific size (width x height in inches)\n",
    "fig, ax = plt.subplots(figsize=(8, 6))\n",
    "\n",
    "# Plot the sine function in blue and cosine function in red\n",
    "ax.plot(x, sin_x, label='sin(x)', color='blue', linewidth=2)\n",
    "ax.plot(x, cos_x, label='cos(x)', color='red', linewidth=2)\n",
    "\n",
    "# Set axis labels and title with custom font sizes\n",
    "ax.set_xlabel('x', fontsize=14)\n",
    "ax.set_ylabel('Function Value', fontsize=14)\n",
    "ax.set_title('2D Plot of Sin(x) and Cos(x)', fontsize=16)\n",
    "\n",
    "# Add a legend and grid\n",
    "ax.legend(fontsize=12)\n",
    "ax.grid(True)\n",
    "\n",
    "# Display the plot\n",
    "plt.show()"
   ],
   "outputs": [],
   "execution_count": null
  },
  {
   "cell_type": "markdown",
   "metadata": {},
   "source": [
    "### 3D Sin & Cos"
   ]
  },
  {
   "cell_type": "code",
   "metadata": {
    "collapsed": false,
    "jupyter": {
     "outputs_hidden": false
    }
   },
   "source": [
    "fig = plt.figure(figsize=(10, 8))\n",
    "ax = fig.add_subplot(111, projection='3d')\n",
    "\n",
    "# Data for a three-dimensional line\n",
    "zline = np.linspace(0, 15, 1000)\n",
    "xline = np.sin(zline)\n",
    "yline = np.cos(zline)\n",
    "ax.plot3D(xline, yline, zline, 'blue')\n",
    "\n",
    "# Data for three-dimensional scattered points\n",
    "zdata = 15 * np.random.random(100)\n",
    "xdata = np.sin(zdata) + 0.1 * np.random.randn(100)\n",
    "ydata = np.cos(zdata) + 0.1 * np.random.randn(100)\n",
    "ax.scatter3D(xdata, ydata, zdata, c=zdata, cmap='Greens')\n",
    "\n",
    "\"\"\"Add some labels\"\"\"\n",
    "ax.set_title('Alex Boyce', fontsize=14)\n",
    "\n",
    "# x, y labels\n",
    "ax.set_xlabel('x', fontsize=14)\n",
    "ax.set_ylabel('y', fontsize=14)\n",
    "\n",
    "plt.show()"
   ],
   "outputs": [],
   "execution_count": null
  },
  {
   "cell_type": "markdown",
   "metadata": {},
   "source": [
    "Notice that scatter points have their transparency adjusted to give a sense of depth on the page.\n",
    "While the three-dimensional effect is sometimes difficult to see within a static image, an interactive view can lead to some nice intuition about the layout of the points."
   ]
  },
  {
   "cell_type": "markdown",
   "metadata": {},
   "source": [
    "## Three-Dimensional Contour Plots\n",
    "\n",
    "A contour plot can be created with the plt.contour function. It takes three arguments: a grid of x values, a grid of y values, and a grid of z values. The x and y values represent positions on the plot, and the z values will be represented by the contour levels. \n",
    "\n",
    "`mplot3d` contains tools to create three-dimensional relief plots using the same inputs.\n",
    "Like `ax.contour`, `ax.contour3D` requires all the input data to be in the form of two-dimensional regular grids, with the *z* data evaluated at each point.\n",
    "Here we'll show a three-dimensional contour diagram of a three-dimensional sinusoidal function (see the following figure):"
   ]
  },
  {
   "cell_type": "code",
   "metadata": {
    "collapsed": false,
    "jupyter": {
     "outputs_hidden": false
    }
   },
   "source": [
    "def f(x, y):\n",
    "    return np.sin(np.sqrt(x ** 2 + y ** 2))\n",
    "\n",
    "x = np.linspace(-6, 6, 30)\n",
    "y = np.linspace(-6, 6, 30)\n",
    "\n",
    "X, Y = np.meshgrid(x, y)\n",
    "Z = f(X, Y)"
   ],
   "outputs": [],
   "execution_count": null
  },
  {
   "cell_type": "code",
   "metadata": {
    "collapsed": false,
    "jupyter": {
     "outputs_hidden": false
    }
   },
   "source": [
    "fig = plt.figure(figsize=(8, 6))\n",
    "ax = plt.axes(projection='3d')\n",
    "ax.contour3D(X, Y, Z, 40, cmap='binary')\n",
    "ax.set_xlabel('x')\n",
    "ax.set_ylabel('y')\n",
    "ax.set_zlabel('z');\n",
    "plt.show()"
   ],
   "outputs": [],
   "execution_count": null
  },
  {
   "cell_type": "markdown",
   "metadata": {},
   "source": [
    "Sometimes the default viewing angle is not optimal, in which case we can use the `view_init` method to set the elevation and azimuthal angles. In the following example, visualized in the following figure, we'll use an elevation of 60 degrees (that is, 60 degrees above the x-y plane) and an azimuth of 35 degrees (that is, rotated 35 degrees counter-clockwise about the z-axis):"
   ]
  },
  {
   "cell_type": "code",
   "metadata": {
    "collapsed": false,
    "jupyter": {
     "outputs_hidden": false
    }
   },
   "source": [
    "ax.view_init(60, 35)\n",
    "fig"
   ],
   "outputs": [],
   "execution_count": null
  },
  {
   "cell_type": "markdown",
   "metadata": {},
   "source": [
    "Again, note that this type of rotation can be accomplished interactively by clicking and dragging when using one of Matplotlib's interactive backends."
   ]
  },
  {
   "cell_type": "markdown",
   "metadata": {},
   "source": [
    "## Wireframes and Surface Plots\n",
    "\n",
    "Two other types of three-dimensional plots that work on gridded data are wireframes and surface plots.\n",
    "These take a grid of values and project it onto the specified three-dimensional surface, and can make the resulting three-dimensional forms quite easy to visualize.\n",
    "Here's an example of using a wireframe (see the following figure):"
   ]
  },
  {
   "cell_type": "code",
   "metadata": {
    "collapsed": false,
    "jupyter": {
     "outputs_hidden": false
    }
   },
   "source": [
    "fig = plt.figure(figsize=(8, 6))\n",
    "ax = plt.axes(projection='3d')\n",
    "ax.plot_wireframe(X, Y, Z)\n",
    "ax.set_title('wireframe');\n",
    "plt.show()"
   ],
   "outputs": [],
   "execution_count": null
  },
  {
   "cell_type": "markdown",
   "metadata": {},
   "source": [
    "A surface plot is like a wireframe plot, but each face of the wireframe is a filled polygon.\n",
    "Adding a colormap to the filled polygons can aid perception of the topology of the surface being visualized, as you can see in the following figure:"
   ]
  },
  {
   "cell_type": "code",
   "metadata": {
    "collapsed": false,
    "jupyter": {
     "outputs_hidden": false
    }
   },
   "source": [
    "ax = plt.axes(projection='3d')\n",
    "ax.plot_surface(X, Y, Z, rstride=1, cstride=1,\n",
    "                cmap='viridis', edgecolor='none')\n",
    "ax.set_title('surface');\n",
    "plt.show()"
   ],
   "outputs": [],
   "execution_count": null
  },
  {
   "cell_type": "markdown",
   "metadata": {},
   "source": [
    "Though the grid of values for a surface plot needs to be two-dimensional, it need not be rectilinear.\n",
    "Here is an example of creating a partial polar grid, which when used with the `surface3D` plot can give us a slice into the function we're visualizing (see the following figure):"
   ]
  },
  {
   "cell_type": "code",
   "metadata": {
    "collapsed": false,
    "jupyter": {
     "outputs_hidden": false
    }
   },
   "source": [
    "r = np.linspace(0, 6, 20)\n",
    "theta = np.linspace(-0.9 * np.pi, 0.8 * np.pi, 40)\n",
    "r, theta = np.meshgrid(r, theta)\n",
    "\n",
    "X = r * np.sin(theta)\n",
    "Y = r * np.cos(theta)\n",
    "Z = f(X, Y)\n",
    "\n",
    "ax = plt.axes(projection='3d')\n",
    "ax.plot_surface(X, Y, Z, rstride=1, cstride=1,\n",
    "                cmap='viridis', edgecolor='none');\n",
    "plt.show()"
   ],
   "outputs": [],
   "execution_count": null
  },
  {
   "cell_type": "markdown",
   "metadata": {},
   "source": [
    "## Surface Triangulations\n",
    "\n",
    "For some applications, the evenly sampled grids required by the preceding routines are too restrictive.\n",
    "In these situations, triangulation-based plots can come in handy.\n",
    "What if rather than an even draw from a Cartesian or a polar grid, we instead have a set of random draws?"
   ]
  },
  {
   "cell_type": "code",
   "metadata": {
    "collapsed": false,
    "jupyter": {
     "outputs_hidden": false
    }
   },
   "source": [
    "theta = 2 * np.pi * np.random.random(1000)\n",
    "r = 6 * np.random.random(1000)\n",
    "x = np.ravel(r * np.sin(theta))\n",
    "y = np.ravel(r * np.cos(theta))\n",
    "z = f(x, y)"
   ],
   "outputs": [],
   "execution_count": null
  },
  {
   "cell_type": "markdown",
   "metadata": {},
   "source": [
    "We could create a scatter plot of the points to get an idea of the surface we're sampling from, as shown in the following figure:"
   ]
  },
  {
   "cell_type": "code",
   "metadata": {
    "collapsed": false,
    "jupyter": {
     "outputs_hidden": false
    }
   },
   "source": [
    "ax = plt.axes(projection='3d')\n",
    "ax.scatter(x, y, z, c=z, cmap='viridis', linewidth=0.5);\n",
    "plt.show()"
   ],
   "outputs": [],
   "execution_count": null
  },
  {
   "cell_type": "markdown",
   "metadata": {},
   "source": [
    "This point cloud leaves a lot to be desired.\n",
    "The function that will help us in this case is `ax.plot_trisurf`, which creates a surface by first finding a set of triangles formed between adjacent points (remember that `x`, `y`, and `z` here are one-dimensional arrays); the following figure shows the result:"
   ]
  },
  {
   "cell_type": "code",
   "metadata": {
    "collapsed": false,
    "jupyter": {
     "outputs_hidden": false
    }
   },
   "source": [
    "ax = plt.axes(projection='3d')\n",
    "ax.plot_trisurf(x, y, z,\n",
    "                cmap='viridis', edgecolor='none');\n",
    "plt.show()"
   ],
   "outputs": [],
   "execution_count": null
  },
  {
   "cell_type": "markdown",
   "metadata": {},
   "source": [
    "The result is certainly not as clean as when it is plotted with a grid, but the flexibility of such a triangulation allows for some really interesting three-dimensional plots.\n",
    "For example, it is actually possible to plot a three-dimensional Möbius strip using this, as we'll see next."
   ]
  },
  {
   "cell_type": "markdown",
   "metadata": {},
   "source": [
    "## Example: iris Data"
   ]
  },
  {
   "cell_type": "code",
   "metadata": {},
   "source": [
    "import numpy as np\n",
    "import pandas as pd\n",
    "import matplotlib.pyplot as plt\n",
    "from mpl_toolkits.mplot3d import Axes3D  # required for 3D plotting\n",
    "import seaborn as sns\n",
    "\n",
    "# Load the Iris dataset from seaborn\n",
    "iris = sns.load_dataset(\"iris\")\n",
    "\n",
    "# Define a color map for species\n",
    "species_colors = {'setosa': 'red', 'versicolor': 'green', 'virginica': 'blue'}\n",
    "\n",
    "# Visualization 1:\n",
    "# 3D scatter plot using sepal_length, sepal_width, and petal_length\n",
    "# ----------------------------\n",
    "fig = plt.figure(figsize=(7, 5))\n",
    "ax = fig.add_subplot(111, projection='3d')\n",
    "for sp in iris['species'].unique():\n",
    "    subset = iris[iris['species'] == sp]\n",
    "    ax.scatter(subset['sepal_length'], subset['sepal_width'], subset['petal_length'],\n",
    "               c=species_colors[sp], label=sp, s=50, edgecolor='k')\n",
    "ax.set_xlabel(\"Sepal Length\", fontsize=12)\n",
    "ax.set_ylabel(\"Sepal Width\", fontsize=12)\n",
    "ax.set_zlabel(\"Petal Length\", fontsize=12)\n",
    "ax.set_title(\"Alex Boyce+3D Scatter: Sepal Length, Sepal Width, Petal Length\", fontsize=14)\n",
    "ax.legend(fontsize=10)\n",
    "plt.show()\n",
    "\n",
    "\n",
    "# Visualization 2:\n",
    "# 3D scatter plot using sepal_length, petal_length, and petal_width\n",
    "# ----------------------------\n",
    "fig = plt.figure(figsize=(7, 5))\n",
    "ax = fig.add_subplot(111, projection='3d')\n",
    "for sp in iris['species'].unique():\n",
    "    subset = iris[iris['species'] == sp]\n",
    "    ax.scatter(subset['sepal_length'], subset['petal_length'], subset['petal_width'],\n",
    "               c=species_colors[sp], label=sp, s=50, marker='^', edgecolor='k')\n",
    "ax.set_xlabel(\"Sepal Length\", fontsize=12)\n",
    "ax.set_ylabel(\"Petal Length\", fontsize=12)\n",
    "ax.set_zlabel(\"Petal Width\", fontsize=12)\n",
    "ax.set_title(\"Alex Boyce+ 3D Scatter: Sepal Length, Petal Length, Petal Width\", fontsize=14)\n",
    "ax.legend(fontsize=10)\n",
    "plt.show()\n"
   ],
   "outputs": [],
   "execution_count": null
  },
  {
   "cell_type": "markdown",
   "metadata": {},
   "source": [
    "### Analysis:\n",
    "\n",
    "**Alternative Feature Combination**:\n",
    "By plotting sepal length, petal length, and petal width, this visualization shifts focus away from sepal width and instead emphasizes the petal dimensions alongside sepal length. The strong differentiation in petal dimensions becomes more apparent, especially for Iris setosa, which generally exhibits significantly smaller petal width and length compared to the other species.\n",
    "\n",
    "**Clustering**:\n",
    "The spatial arrangement in this plot often reveals a tighter clustering for setosa, while versicolor and virginica might appear closer together with some overlapping regions. This overlap suggests that, although petal measurements are powerful discriminators, additional features (like sepal width) might be necessary to fully separate versicolor from virginica.\n",
    "\n",
    "**Data Trends and Outliers**:\n",
    "The visualization may also highlight outliers—individual points that deviate from the expected cluster patterns. These outliers can be crucial for understanding variability within species or identifying potential measurement errors.\n",
    "\n",
    "**Limitation**:\n",
    "As with the first plot, the 3D scatter chart here is static. The inability to interactively manipulate the view (e.g., rotating, zooming) makes it harder for viewers to thoroughly explore the spatial distribution. This limitation can hinder a comprehensive understanding of complex inter-feature relationships, particularly when clusters overlap or when subtle trends are present.\n",
    "\n"
   ]
  },
  {
   "cell_type": "markdown",
   "metadata": {},
   "source": [
    "### 3D with plotly Go"
   ]
  },
  {
   "cell_type": "code",
   "metadata": {},
   "source": [
    "import plotly.graph_objects as go\n",
    "import pandas as pd\n",
    "import seaborn as sns\n",
    "\n",
    "# # Load the Iris dataset from Seaborn\n",
    "iris = sns.load_dataset(\"iris\")\n",
    "\n",
    "# Define a color mapping for each species\n",
    "species_colors = {\"setosa\": \"red\", \"versicolor\": \"green\", \"virginica\": \"blue\"}\n",
    "\n",
    "# Create an empty figure\n",
    "fig = go.Figure()\n",
    "\n",
    "# For each species, add a 3D scatter trace\n",
    "for species in iris[\"species\"].unique():\n",
    "    # Filter the data for the current species\n",
    "    subset = iris[iris[\"species\"] == species]\n",
    "    # Add a 3D scatter trace for this species\n",
    "    fig.add_trace(go.Scatter3d(\n",
    "        x=subset[\"sepal_length\"],    # x-axis: sepal length\n",
    "        y=subset[\"sepal_width\"],     # y-axis: sepal width\n",
    "        z=subset[\"petal_length\"],    # z-axis: petal length\n",
    "        mode=\"markers\",              # display as points\n",
    "        marker=dict(\n",
    "            size=8,                  # marker size\n",
    "            color=species_colors[species],  # color by species\n",
    "            opacity=0.8              # marker opacity\n",
    "        ),\n",
    "        name=species                # trace name for the legend\n",
    "    ))\n",
    "\n",
    "# Update the layout to set titles and size\n",
    "fig.update_layout(\n",
    "    title=\"3D Scatter Plot of Iris Dataset\",\n",
    "    scene=dict(\n",
    "        xaxis_title=\"Sepal Length\",\n",
    "        yaxis_title=\"Sepal Width\",\n",
    "        zaxis_title=\"Petal Length\"\n",
    "    ),\n",
    "    width=700,                    # Figure width in pixels\n",
    "    height=700,                   # Figure height in pixels\n",
    "    margin=dict(l=0, r=0, b=0, t=50)  # Margins around the plot\n",
    ")\n",
    "\n",
    "# Display the interactive 3D plot\n",
    "fig.show()\n"
   ],
   "outputs": [],
   "execution_count": null
  },
  {
   "cell_type": "markdown",
   "metadata": {},
   "source": [
    "### Observations\n",
    "**Expressiveness**:\n",
    "The plot is expressive as it uses three axes to capture the variability in the dataset, while distinct colors for each species provide an immediate visual cue to differences among the groups. This design makes it easy to spot patterns, clusters, and potential outliers.\n",
    "\n",
    "**Effectiveness**:\n",
    "Clear axis labels, a descriptive title, and appropriate color schemes ensure that the visualization is not only aesthetically pleasing but also informative. The spatial arrangement effectively communicates the relative differences among species, supporting further analysis, such as feature selection and classification.\n",
    "\n",
    "**Big takeaway**:\n",
    "By mapping three features onto the x, y, and z axes, the plot provides a clear view of how the different measurements interact. This multidimensional perspective reveals the natural clustering of Iris species and helps identify which features contribute most to species separation.\n",
    "The 3D scatter plot distills complex, multivariate information into an accessible visual form. It highlights the key features that differentiate the Iris species and demonstrates how interactivity can deepen our understanding of data relationships. This makes the plot a powerful tool for exploratory data analysis and model development in machine learning."
   ]
  },
  {
   "cell_type": "code",
   "metadata": {},
   "source": [],
   "outputs": [],
   "execution_count": null
  },
  {
   "cell_type": "code",
   "metadata": {},
   "source": [
    "import numpy as np\n",
    "import pandas as pd\n",
    "import plotly.graph_objects as go\n",
    "import seaborn as sns\n",
    "\n",
    "# Load the Iris dataset and compute mean values per species for each feature\n",
    "iris = sns.load_dataset(\"iris\")\n",
    "features = ['sepal_length', 'sepal_width', 'petal_length', 'petal_width']\n",
    "species = iris['species'].unique()\n",
    "group_means = iris.groupby('species')[features].mean()\n",
    "\n",
    "# Define colors for each species\n",
    "colors = {'setosa': 'red', 'versicolor': 'green', 'virginica': 'blue'}\n",
    "\n",
    "# Set bar dimensions in x and y directions\n",
    "dx, dy = 0.3, 0.3\n",
    "\n",
    "traces = []\n",
    "for i, sp in enumerate(species):\n",
    "    for j, feat in enumerate(features):\n",
    "        height = group_means.loc[sp, feat]\n",
    "        # Define base coordinates for the bar (centered at (i, j))\n",
    "        x0, x1 = i - dx/2, i + dx/2\n",
    "        y0, y1 = j - dy/2, j + dy/2\n",
    "        # Define the 8 vertices of the bar\n",
    "        vertices = np.array([\n",
    "            [x0, y0, 0], [x1, y0, 0], [x1, y1, 0], [x0, y1, 0],\n",
    "            [x0, y0, height], [x1, y0, height], [x1, y1, height], [x0, y1, height]\n",
    "        ])\n",
    "        # Define faces by splitting each rectangular face into two triangles\n",
    "        faces = [[0, 1, 2], [0, 2, 3],  # bottom\n",
    "                 [4, 5, 6], [4, 6, 7],  # top\n",
    "                 [0, 1, 5], [0, 5, 4],  # front\n",
    "                 [1, 2, 6], [1, 6, 5],  # right\n",
    "                 [2, 3, 7], [2, 7, 6],  # back\n",
    "                 [3, 0, 4], [3, 4, 7]]  # left\n",
    "        i_faces, j_faces, k_faces = zip(*faces)\n",
    "        # Create a Mesh3d trace for the bar\n",
    "        traces.append(go.Mesh3d(\n",
    "            x=vertices[:, 0],\n",
    "            y=vertices[:, 1],\n",
    "            z=vertices[:, 2],\n",
    "            i=i_faces, j=j_faces, k=k_faces,\n",
    "            color=colors[sp],\n",
    "            opacity=0.8,\n",
    "            name=f\"{sp} - {feat}\"\n",
    "        ))\n",
    "\n",
    "# Build and update the figure layout\n",
    "fig = go.Figure(data=traces)\n",
    "fig.update_layout(\n",
    "    title=\"3D Bar Chart: Mean Feature Values per Iris Species\",\n",
    "    scene=dict(\n",
    "        xaxis=dict(title=\"Species\", tickvals=list(range(len(species))), ticktext=list(species)),\n",
    "        yaxis=dict(title=\"Features\", tickvals=list(range(len(features))), ticktext=features),\n",
    "        zaxis=dict(title=\"Mean Value\")\n",
    "    ),\n",
    "    width=700,\n",
    "    height=700\n",
    ")\n",
    "\n",
    "fig.show()\n"
   ],
   "outputs": [],
   "execution_count": null
  },
  {
   "cell_type": "markdown",
   "metadata": {},
   "source": [
    "### Observations\n",
    "**Expressiveness**:\n",
    "This 3D bar chart effectively maps three dimensions: species (x-axis), features (y-axis), and their corresponding mean values (z-axis). The distinct colors for each species (red, green, blue) make it immediately clear which bars belong to which group, enabling quick comparisons across different features.\n",
    "\n",
    "**Effectiveness**:\n",
    "The visualization is effective because it organizes complex multivariate data into a spatial format that is intuitive to read. The clear axis labels and title guide the viewer, while the interactive 3D plot allows users to rotate the view and better assess the differences in mean values. The bars clearly convey which species have higher or lower measurements for specific features, supporting data-driven insights and decision-making.\n",
    "\n",
    "**Big takeaway**:\n",
    "The 3D bar chart reveals clear differences in the mean values of each feature across species. For example, one might observe that Iris setosa has distinctly lower mean values for petal length and petal width compared to Iris versicolor and Iris virginica. Such differences are crucial for species classification.\n",
    "This visualization not only summarizes complex, multivariate data into an accessible format but also highlights the key features that differentiate Iris species. Such insights are essential for tasks like classification, feature selection, and further statistical analysis in data science and machine learning applications."
   ]
  },
  {
   "cell_type": "code",
   "metadata": {},
   "source": [],
   "outputs": [],
   "execution_count": null
  },
  {
   "cell_type": "markdown",
   "metadata": {},
   "source": [
    "### Mt Bruno Elevation example with plotly go\n",
    "\n",
    "The Mt Bruno Elevation dataset is a collection of elevation measurements for Mt Bruno. Each entry in the dataset represents an elevation value (in meters) arranged in a grid format. This grid structure allows for the reconstruction of a digital elevation model (DEM) of the mountain's terrain."
   ]
  },
  {
   "cell_type": "code",
   "metadata": {},
   "source": [
    "# Read data from a CSV URL containing elevation data for Mt Bruno\n",
    "z_data = pd.read_csv('https://raw.githubusercontent.com/plotly/datasets/master/api_docs/mt_bruno_elevation.csv')\n",
    "z_data.head()"
   ],
   "outputs": [],
   "execution_count": null
  },
  {
   "cell_type": "code",
   "metadata": {},
   "source": [
    "# Create a Figure with a Surface plot using the elevation data\n",
    "fig = go.Figure(data=[go.Surface(z=z_data.values)])\n",
    "\n",
    "# Update the surface trace with contour lines on the z-axis\n",
    "fig.update_traces(\n",
    "    contours_z=dict(\n",
    "        show=True,          # Display the contour lines\n",
    "        usecolormap=True,   # Use the surface's colormap for the contours\n",
    "        highlightcolor=\"limegreen\",  # Set the highlight color for contours\n",
    "        project_z=True      # Project the contours onto the z-plane\n",
    "    )\n",
    ")\n",
    "\n",
    "# Update the layout of the figure:\n",
    "fig.update_layout(\n",
    "    title=dict(text='Mt Bruno Elevation'),  # Set the plot title\n",
    "    autosize=False,                           # Disable automatic sizing\n",
    "    scene=dict(\n",
    "        # Custom axis labels\n",
    "        xaxis=dict(title='X Coordinate'),\n",
    "        yaxis=dict(title='Y Coordinate'),\n",
    "        zaxis=dict(title='Elevation (m)'),\n",
    "        camera_eye=dict(x=1.87, y=0.88, z=-0.64)\n",
    "    ),\n",
    "    width=500,    # Set the width of the figure\n",
    "    height=500,   # Set the height of the figure\n",
    "    margin=dict(l=65, r=50, b=65, t=90)  # Set custom margins for the figure layout\n",
    ")\n",
    "\n",
    "# Render and display the figure\n",
    "fig.show()"
   ],
   "outputs": [],
   "execution_count": null
  },
  {
   "cell_type": "markdown",
   "metadata": {},
   "source": [
    "### Practice: Using the provided data, create a series of interactive 3D plots using Plotly's graph_objects. \n",
    "\n",
    "- Set the initial camera view to a top-down perspective. \n",
    "- Make sure to clearly label all axes and include your full name in the plot title."
   ]
  },
  {
   "cell_type": "code",
   "metadata": {},
   "source": [
    "# data\n",
    "z1 = np.array([\n",
    "    [8.83,8.89,8.81,8.87,8.9,8.87],\n",
    "    [8.89,8.94,8.85,8.94,8.96,8.92],\n",
    "    [8.84,8.9,8.82,8.92,8.93,8.91],\n",
    "    [8.79,8.85,8.79,8.9,8.94,8.92],\n",
    "    [8.79,8.88,8.81,8.9,8.95,8.92],\n",
    "    [8.8,8.82,8.78,8.91,8.94,8.92],\n",
    "    [8.75,8.78,8.77,8.91,8.95,8.92],\n",
    "    [8.8,8.8,8.77,8.91,8.95,8.94],\n",
    "    [8.74,8.81,8.76,8.93,8.98,8.99],\n",
    "    [8.89,8.99,8.92,9.1,9.13,9.11],\n",
    "    [8.97,8.97,8.91,9.09,9.11,9.11],\n",
    "    [9.04,9.08,9.05,9.25,9.28,9.27],\n",
    "    [9,9.01,9,9.2,9.23,9.2],\n",
    "    [8.99,8.99,8.98,9.18,9.2,9.19],\n",
    "    [8.93,8.97,8.97,9.18,9.2,9.18]\n",
    "])"
   ],
   "outputs": [],
   "execution_count": null
  },
  {
   "cell_type": "code",
   "metadata": {},
   "source": [
    "# Your code:\n",
    "# Define x and y\n",
    "x = np.arange(z1.shape[1])\n",
    "y = np.arange(z1.shape[0])\n",
    "x, y = np.meshgrid(x, y)\n",
    "\n",
    "fig = go.Figure(data=[go.Surface(z=z1, x=x, y=y)])\n",
    "\n",
    "# Set top-down camera view\n",
    "fig.update_layout(\n",
    "    title=\"3D Surface Plot - Alexander Boyce\",\n",
    "    scene=dict(\n",
    "        xaxis_title='X Axis',\n",
    "        yaxis_title='Y Axis',\n",
    "        zaxis_title='Z Axis',\n",
    "        camera=dict(\n",
    "            eye=dict(x=0., y=0., z=2)\n",
    "        )\n",
    "    )\n",
    ")\n",
    "\n",
    "# Show the plot\n",
    "fig.show()"
   ],
   "outputs": [],
   "execution_count": null
  }
 ],
 "metadata": {
  "anaconda-cloud": {},
  "jupytext": {
   "encoding": "# -*- coding: utf-8 -*-",
   "formats": "ipynb,md"
  },
  "kernelspec": {
   "display_name": "Python 3 (ipykernel)",
   "language": "python",
   "name": "python3"
  },
  "language_info": {
   "codemirror_mode": {
    "name": "ipython",
    "version": 3
   },
   "file_extension": ".py",
   "mimetype": "text/x-python",
   "name": "python",
   "nbconvert_exporter": "python",
   "pygments_lexer": "ipython3",
   "version": "3.11.8"
  }
 },
 "nbformat": 4,
 "nbformat_minor": 4
}
