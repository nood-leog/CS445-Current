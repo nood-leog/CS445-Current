{
 "cells": [
  {
   "cell_type": "markdown",
   "metadata": {
    "slideshow": {
     "slide_type": "slide"
    }
   },
   "source": [
    "# Visualizing data in Python: an overview\n",
    "Visualization is an important part of every scientist's skill set. The primary goal of scientific visualization is, of course, to make publication figures so beautiful that they cause reviewers to completely overlook all of the warts and blemishes that pervade the rest of the manuscript.\n",
    "\n",
    "Less cynically, we could say that the goal of visualization is to facilitate better understanding of one's data. The adage that a picture is worth a thousand words has some truth to it. A good visualization can enlighten readers, suggest novel hypotheses, identify problems with the data or one's mental model of the data, and generally make it easier to understand what's going on in the system under investigation.\n"
   ]
  },
  {
   "cell_type": "markdown",
   "metadata": {
    "slideshow": {
     "slide_type": "slide"
    }
   },
   "source": [
    "## Plotting in matplotlib\n",
    "The easiest way to get a sense of how plotting works in Python is to dive right in. We'll start out by working with the `matplotlib` package, which, at least for the time being, remains the workhorse plotting package in Python. As we'll see later, many other Python plotting tools are built on top of matplotlib, so even in cases where you're not *explicitly* interacting with your plots through matplotlib, there's a good chance you're doing so implicitly.\n",
    "\n",
    "Although matplotlib contains a large number of modules, in most cases, users end up working primarily through the `pyplot` module, which provides a high-level interface to a large variety of plotting tools in matplotlib. We can import pyplot just like any other Python model (i.e., with `import`). By convention, it's abbreviated to `plt`:"
   ]
  },
  {
   "cell_type": "code",
   "execution_count": null,
   "metadata": {},
   "outputs": [],
   "source": [
    "import matplotlib.pyplot as plt\n",
    "import pandas as pd"
   ]
  },
  {
   "cell_type": "markdown",
   "metadata": {},
   "source": [
    "We also probably want to make sure all of the plots we generate are displayed in-line in the notebook--otherwise each matplotlib figure may start popping up in a new OS window."
   ]
  },
  {
   "cell_type": "code",
   "execution_count": null,
   "metadata": {},
   "outputs": [],
   "source": [
    "%matplotlib inline"
   ]
  },
  {
   "cell_type": "markdown",
   "metadata": {},
   "source": [
    "Out of the box, pyplot provides a high-level interface for a wide range of common plots. By \"high-level\", I just mean that we can specify an entire plot using a very compact set of instructions--often just a single function call. We'll take a look at how this works in just a moment; but first, we need to generate some data to plot. Without data, visualization is a fairly difficult proposition."
   ]
  },
  {
   "cell_type": "code",
   "execution_count": null,
   "metadata": {},
   "outputs": [],
   "source": [
    "y = [1, 2, 3, 5, 8, 13, 21]"
   ]
  },
  {
   "cell_type": "markdown",
   "metadata": {},
   "source": [
    "There, that was easy. Our data consists of a single list containing 7 integer values.\n",
    "\n",
    "Now we can start plotting. Let's start with something very simple. We'll plot our data points as a single line. "
   ]
  },
  {
   "cell_type": "code",
   "execution_count": null,
   "metadata": {},
   "outputs": [],
   "source": [
    "plt.plot(y);\n",
    "plt.show()"
   ]
  },
  {
   "cell_type": "markdown",
   "metadata": {},
   "source": [
    "We generated the above plot using just about the simplest code one can imagine: we just called the `plot()` function in matplotlib (technically, in matplotlib's pyplot module, but I'll use the terms interchangeably), and passed it our list of values as the only parameter. We didn't explicitly tell matplotlib *how* to plot the values; we just gave it the list and hoped for the best. As it turns out, if you call `plot()` with a single list of values, matplotlib assumes you want a line plot, and generates a simple plot that connects each consecutive pair of values with a line segment.\n",
    "\n",
    "Notice that matplotlib interpreted the values we passed in as the y-axis values. If we don't explicitly specify x-axis values, matplotlib assumes that the y-values map serially onto x-values in a one-to-one fashion, such that the first y value corresponds to x=0, the second to x=1, and so on. Of course, often, the data we want to plot isn't sequential like this. What if we had pairs of x-y values? Let's try it out..."
   ]
  },
  {
   "cell_type": "code",
   "execution_count": null,
   "metadata": {},
   "outputs": [],
   "source": [
    "x = [1, 6, 3, 9, 4, 16, 2]\n",
    "# y's copied from above for easier reading\n",
    "y = [1, 2, 3, 5, 8, 13, 21]"
   ]
  },
  {
   "cell_type": "code",
   "execution_count": null,
   "metadata": {},
   "outputs": [],
   "source": [
    "plt.bar(x,y)\n",
    "plt.show()"
   ]
  },
  {
   "cell_type": "markdown",
   "metadata": {},
   "source": [
    "Now we have a fairly random-looking set of 2D points. The first point is at coordinates [1, 1]; the second is at [6, 2]; the third at [3, 3]; and so on. What happens if we pass *both* lists of values to `plot()`?"
   ]
  },
  {
   "cell_type": "code",
   "execution_count": null,
   "metadata": {},
   "outputs": [],
   "source": [
    "plt.plot(x, y,'-o')\n",
    "plt.show()"
   ]
  },
  {
   "cell_type": "markdown",
   "metadata": {},
   "source": [
    "When we explicitly pass in two sets of values, matplotlib interprets the first list as the x coordinates and the second as the y coordinates. It still assumes we want a line plot, so it's still connecting each pair of points with a line segment. This may not be exactly what we expect: in most cases where want to plot non-sequential pairs of values, we probably intend to display the values as a scatter plot rather than a line plot. That is, we don't assume that there's any continuity between data points that justifies connecting them with lines.\n",
    "\n",
    "How do we tell matplotlib to give us a scatter plot rather than a line plot? We have two basic options. First, we could explicitly call pyplot's `scatter()` function:"
   ]
  },
  {
   "cell_type": "code",
   "execution_count": null,
   "metadata": {},
   "outputs": [],
   "source": [
    "plt.scatter(x, y)\n",
    "plt.show()"
   ]
  },
  {
   "cell_type": "markdown",
   "metadata": {},
   "source": [
    "By calling `scatter()` rather than `plot()`, we're explicitly telling matplotlib to display our data points as disconnected points rather than using the default line plot found in `plot()`.\n",
    "\n",
    "Alternatively, we could have kept using `plot()`, but taken advantage of the many arguments `plot()` supports by explicitly indicating how we want our data points styled:"
   ]
  },
  {
   "cell_type": "code",
   "execution_count": null,
   "metadata": {},
   "outputs": [],
   "source": [
    "plt.plot(x, y, '--o')\n",
    "plt.show()"
   ]
  },
  {
   "cell_type": "markdown",
   "metadata": {},
   "source": [
    "Notice the new positional argument `'o'` we pass to `plot()`. If we consult [the documentation](https://matplotlib.org/api/_as_gen/matplotlib.pyplot.plot.html) for `plot()`, it turns out that the third optional parameter to `plot()`--named `fmt` (for format)--specifies basic formatting options. `fmt` is actually quite powerful, in that it allows us to control marker and/or line color and style in one shot. For example, let's say we want to show both dashed lines between segments and X's for point markers. And let's say we want to replace the default blue color with red. Here's how we can do that:"
   ]
  },
  {
   "cell_type": "code",
   "execution_count": null,
   "metadata": {},
   "outputs": [],
   "source": [
    "plt.plot(x, y, 'rx--')\n",
    "plt.show()"
   ]
  },
  {
   "cell_type": "markdown",
   "metadata": {},
   "source": [
    "You might be thinking that, while the `fmt` argument is pretty powerful, it's also quite terse, and seems pretty hard to learn and remember. Fortunately, you don't *have* to control style with `fmt`; it just provides a convenient shorthand notation. If you prefer to be explicit, you can independently control each of the options that `fmt` allows you to manipulate:"
   ]
  },
  {
   "cell_type": "code",
   "execution_count": null,
   "metadata": {},
   "outputs": [],
   "source": [
    "plt.plot(x, y, color='red', marker='x', linestyle='dashed')\n",
    "plt.show()"
   ]
  },
  {
   "cell_type": "markdown",
   "metadata": {},
   "source": [
    "### Figure Fontsize"
   ]
  },
  {
   "cell_type": "code",
   "execution_count": null,
   "metadata": {},
   "outputs": [],
   "source": [
    "#figure size\n",
    "plt.figure(figsize=(8,6))\n",
    "#plot figure\n",
    "plt.plot(x, y, color='red', marker='x', linestyle='dashed')\n",
    "\n",
    "#plot title\n",
    "plt.title('test title', fontsize=30)\n",
    "\n",
    "#set x label\n",
    "plt.xlabel('index', fontsize=21)\n",
    "\n",
    "#set y label\n",
    "plt.ylabel('value', fontsize=21)\n",
    "\n",
    "#set y yticks\n",
    "plt.yticks(fontsize=16)\n",
    "\n",
    "#set x yticks\n",
    "plt.xticks(fontsize=16)\n",
    "\n",
    "plt.grid(True)\n",
    "\n",
    "plt.show()"
   ]
  },
  {
   "cell_type": "markdown",
   "metadata": {},
   "source": [
    "The above command produces exactly the same result as the previous one, but is much more explicit.\n",
    "\n",
    "At this point you might be wondering how many other parameters the `plot()` function accepts. The answer is \"a lot\". Here's another example illustrating just some of the parameters at your disposal. We'll also take the opportunity to replace our collection of random data points with something a little more orderly."
   ]
  },
  {
   "cell_type": "code",
   "execution_count": null,
   "metadata": {},
   "outputs": [],
   "source": [
    "import numpy as np\n",
    "\n",
    "# y = x^2 in the range of -10 to 10\n",
    "x = np.linspace(-10, 10, 100)\n",
    "y = x**2\n",
    "\n",
    "plt.plot(x, y, color='#c26603', marker='*', markersize=16, markeredgecolor='black',\n",
    "         markerfacecolor='#3333fc', linewidth=3, linestyle=':', alpha=0.8, markevery=10);\n",
    "plt.show()"
   ]
  },
  {
   "cell_type": "markdown",
   "metadata": {},
   "source": [
    "\n",
    "### Bar graph in matplotlib\n",
    "Bar charts, also called bar graphs, or bar plots are constructed with Matplotlib's pyplot library. To construct a bar chart with Matplotlib, first import Matplotlib. \n",
    "To build the bar chart, we create a list of bar heights. The bar heights are the tensile strengths of the three metals. We also need a list of bar positions. Specifying bar positions seems strange, but the plt.bar() method needs to know where along the x-axis to put the bars. The plt.bar() method requires two positional arguments:\n",
    "\n",
    "plt.bar([list of bar positions], [list of bar heights])"
   ]
  },
  {
   "cell_type": "code",
   "execution_count": null,
   "metadata": {},
   "outputs": [],
   "source": [
    "# define bar heights and bar positions\n",
    "heights = [125, 276, 345]\n",
    "x_pos = [1, 2, 3]"
   ]
  },
  {
   "cell_type": "markdown",
   "metadata": {},
   "source": [
    "Next, build the plot by passing in the list of bar position x_pos and list of bar heights heights as positional arguments to the plt.bar() function. These positional arguments must be specified in the proper order."
   ]
  },
  {
   "cell_type": "code",
   "execution_count": null,
   "metadata": {},
   "outputs": [],
   "source": [
    "# Build the plot\n",
    "plt.bar(x_pos,heights)\n",
    "\n",
    "plt.show()"
   ]
  },
  {
   "cell_type": "code",
   "execution_count": null,
   "metadata": {},
   "outputs": [],
   "source": [
    "np.array(x_pos)+0.2, np.array(heights)+50"
   ]
  },
  {
   "cell_type": "code",
   "execution_count": null,
   "metadata": {},
   "outputs": [],
   "source": [
    "import numpy as np\n",
    "heights = [125, 276, 345]\n",
    "x_pos = [1, 2, 3]\n",
    "plt.bar(x_pos,heights,width=0.2,color='blue',align='center',label='original')\n",
    "plt.bar(np.array(x_pos)+0.2, np.array(heights)+50,width=0.2,color='red',align='center', label='Shifting')\n",
    "plt.legend()\n",
    "plt.grid(True)\n",
    "plt.show()"
   ]
  },
  {
   "cell_type": "markdown",
   "metadata": {},
   "source": [
    "### Enhance the visualization icons and include detailed inline comments"
   ]
  },
  {
   "cell_type": "code",
   "execution_count": null,
   "metadata": {},
   "outputs": [],
   "source": [
    "# plt.rcParams[\"font.family\"] = \"Times New Roman\"\n",
    "# Plot the original data as blue bars\n",
    "plt.bar(x_pos, heights, width=0.2, color='blue', align='center', label='Original Data')\n",
    "\n",
    "# Plot the shifted data as red bars; shifted right by 0.2 and increased by 50 in height\n",
    "plt.bar(np.array(x_pos) + 0.2, np.array(heights) + 50, width=0.2, color='red', align='center', label='Shifted Data (+50, right shift)')\n",
    "\n",
    "# Add title and axis labels for better context\n",
    "plt.title(\"Comparison of Original and Shifted Data\",fontsize=14)\n",
    "plt.xlabel(\"X Position\", fontsize=14)\n",
    "plt.ylabel(\"Heights\",fontsize=14)\n",
    "\n",
    "# Add grid and legend to the plot\n",
    "plt.grid(True)\n",
    "plt.legend()\n",
    "plt.ylim(0,450)\n",
    "plt.xlim(0.6,3.4)\n",
    "\n",
    "# Optionally, annotate the bars to explain further details\n",
    "for x, h in zip(x_pos, heights):\n",
    "    plt.text(x, h + 5, f\"{h}\", ha='center', va='bottom', color='blue')\n",
    "\n",
    "for x, h in zip(np.array(x_pos) + 0.2, np.array(heights) + 50):\n",
    "    plt.text(x, h + 5, f\"{h}\", ha='center', va='bottom', color='red')\n",
    "\n",
    "# Display the plot\n",
    "plt.show()"
   ]
  },
  {
   "cell_type": "markdown",
   "metadata": {},
   "source": [
    "### Updated x-axis labels to \"Position 1\", \"Position 2\", and \"Position 3\""
   ]
  },
  {
   "cell_type": "code",
   "execution_count": null,
   "metadata": {},
   "outputs": [],
   "source": [
    "# plt.rcParams[\"font.family\"] = \"Times New Roman\"\n",
    "# Plot the original data as blue bars\n",
    "plt.bar(x_pos, heights, width=0.2, color='blue', align='center', label='Original Data')\n",
    "\n",
    "# Plot the shifted data as red bars; shifted right by 0.2 and increased by 50 in height\n",
    "plt.bar(np.array(x_pos) + 0.2, np.array(heights) + 50, width=0.2, color='red', align='center', label='Shifted Data (+50, right shift)')\n",
    "\n",
    "# Add title and axis labels for better context\n",
    "plt.title(\"Comparison of Original and Shifted Data\",fontsize=14)\n",
    "plt.xlabel(\"X Position\", fontsize=14)\n",
    "plt.ylabel(\"Heights\",fontsize=14)\n",
    "\n",
    "plt.xticks(ticks=[1, 2, 3], labels=['Position 1', 'Position 2', 'Position 3'])\n",
    "\n",
    "# Add grid and legend to the plot\n",
    "plt.grid(True)\n",
    "plt.legend()\n",
    "plt.ylim(0,450)\n",
    "plt.xlim(0.6,3.4)\n",
    "\n",
    "# Optionally, annotate the bars to explain further details\n",
    "for x, h in zip(x_pos, heights):\n",
    "    plt.text(x, h + 5, f\"{h}\", ha='center', va='bottom', color='blue')\n",
    "\n",
    "for x, h in zip(np.array(x_pos) + 0.2, np.array(heights) + 50):\n",
    "    plt.text(x, h + 5, f\"{h}\", ha='center', va='bottom', color='red')\n",
    "\n",
    "# Display the plot\n",
    "plt.show()"
   ]
  },
  {
   "cell_type": "markdown",
   "metadata": {},
   "source": [
    "### Practice: updated above code with the y-axis limited to integer tick values (100, 200, 300, 400)\n",
    "\n",
    "Add your name on title."
   ]
  },
  {
   "cell_type": "code",
   "execution_count": null,
   "metadata": {},
   "outputs": [],
   "source": [
    "#Your code:\n",
    "===="
   ]
  },
  {
   "cell_type": "markdown",
   "metadata": {},
   "source": [
    "### Back-to-Back Bar Charts\n",
    "\n",
    "We can plot two bar charts back to back at the same time using a simple trick. The idea is to have two bar charts, using a simple trick, that is, the length/height of one bar can be negative.\n"
   ]
  },
  {
   "cell_type": "code",
   "execution_count": null,
   "metadata": {},
   "outputs": [],
   "source": [
    "U1 = np.array([15., 35., 45., 32.])\n",
    "U2 = np.array([12., 30., 50., 25.])\n",
    "\n",
    "z1 = np.arange(4)\n",
    "\n",
    "plt.barh(z1, U1, color = 'r')\n",
    "plt.barh(z1, -U2, color = 'b')\n",
    "\n",
    "plt.show()"
   ]
  },
  {
   "cell_type": "markdown",
   "metadata": {},
   "source": [
    "### Bar in pandas\n",
    "1. Providing multiple columns in y parameter.\n",
    "\n",
    "The trick here is to pass all the data that has to be plotted together as a value to ‘y’ parameter of plot function."
   ]
  },
  {
   "cell_type": "code",
   "execution_count": null,
   "metadata": {},
   "outputs": [],
   "source": [
    "import pandas as pd\n",
    "# creating dataframe \n",
    "df = pd.DataFrame({ \n",
    "    'Name': ['John', 'Sammy', 'Joe'], \n",
    "    'Age': [45, 38, 90], \n",
    "    'Height(in cm)': [150, 180, 160] \n",
    "}) \n",
    "  \n",
    "df"
   ]
  },
  {
   "cell_type": "code",
   "execution_count": null,
   "metadata": {},
   "outputs": [],
   "source": [
    "# plotting graph \n",
    "df.plot(x=\"Name\", y=[\"Age\", \"Height(in cm)\"], kind=\"bar\") \n",
    "plt.show()"
   ]
  },
  {
   "cell_type": "markdown",
   "metadata": {},
   "source": [
    "2. By plotting on the same axis\n",
    "\n",
    "Plotting all separate graph on the same axes, differentiated by color can be one alternative. Here again plot() function is employed."
   ]
  },
  {
   "cell_type": "code",
   "execution_count": null,
   "metadata": {},
   "outputs": [],
   "source": [
    "# creating dataframe \n",
    "df = pd.DataFrame({ \n",
    "    'Name': ['John', 'Sammy', 'Joe'], \n",
    "    'Age': [45, 38, 90], \n",
    "    'Height(in cm)': [150, 180, 160] \n",
    "}) \n",
    "  \n",
    "# plotting Height \n",
    "ax = df.plot(x=\"Name\", y=\"Height(in cm)\", kind=\"bar\") \n",
    "# plotting age on the same axis \n",
    "df.plot(x=\"Name\", y=\"Age\", kind=\"bar\",ax=ax, color=\"red\") \n",
    "\n",
    "plt.show()"
   ]
  },
  {
   "cell_type": "markdown",
   "metadata": {},
   "source": [
    "\n",
    "\n",
    "### High-level plots in matplotlib\n",
    "Matplotlib is a very rich package. One of its notable features is that it provides plotting interfaces at both high and low levels. At the high level, matplotlib's pyplot module includes [a large number of functions](https://matplotlib.org/api/pyplot_summary.html) that can construct common types of plots in a single call. We've already seen the `plot()` and `scatter()` functions, which by default produce line plots and scatter plots, respectively. But matplotlib also has things like `bar()`, `contour()`, `hist()`, and `hlines()`, which respectively produce bar plots, contour plots, histograms, and horizontal lines. It also has support for less common plots--some of which are widely used in specific domains of analysis--like `barbs()`, `hexbin()`, `magnitude_spectrum()`, and so on. For example:"
   ]
  },
  {
   "cell_type": "code",
   "execution_count": null,
   "metadata": {},
   "outputs": [],
   "source": [
    "# Set the figure to a fixed size (6 x 6 inches)\n",
    "plt.figure(figsize=(6, 6))\n",
    "\n",
    "# Yes, it's a pie chart.\n",
    "plt.pie([4, 1, 6, 9], labels=[\"Cherry Pie\", \"Apple Pie\", \"Blueberry Pie\", \"Rhubarb Pie\"],\n",
    "        colors=[\"red\", \"green\", \"blue\", \"orange\"],startangle=45, textprops={'fontsize': 20})\n",
    "plt.show()"
   ]
  },
  {
   "cell_type": "code",
   "execution_count": null,
   "metadata": {},
   "outputs": [],
   "source": [
    "\n",
    "plt.figure(figsize=(6, 6))\n",
    "\n",
    "plt.pie([4, 1, 6, 9], explode=[0, 0.2, 0, 0], labels=[\"Cherry Pie\", \"Apple Pie\", \"Blueberry Pie\", \"Rhubarb Pie\"],\n",
    "        colors=[\"red\", \"green\", \"blue\", \"orange\"], startangle=45, textprops={'fontsize': 20})\n",
    "plt.show()"
   ]
  },
  {
   "cell_type": "markdown",
   "metadata": {},
   "source": [
    "And just like that, in a single line of code, we have an elegant-looking pie chart. I mean, sure, it's still a pie chart. But as pie charts go, it's quite lovely."
   ]
  },
  {
   "cell_type": "markdown",
   "metadata": {},
   "source": [
    "### Exploded Pie Chart\n",
    "\n",
    "\n",
    "We can plot an exploded Pie chart with the addition of keyword argument **explode**. It is an array of the same length as that of X. Each of its values specify the radius fraction with which to offset the wedge from the center of the pie."
   ]
  },
  {
   "cell_type": "code",
   "execution_count": null,
   "metadata": {},
   "outputs": [],
   "source": [
    "plt.figure(figsize=(7,7))\n",
    "\n",
    "x11 = [30, 25, 20, 15, 10]\n",
    "\n",
    "labels = ['Computer', 'Electronics', 'Mechanical', 'Chemical', 'Agriculture']\n",
    "\n",
    "explode = [0.2, 0.1, 0.1, 0.05, 0]\n",
    "\n",
    "plt.pie(x11, labels=labels, explode=explode, autopct='%1.1f%%');\n",
    "\n",
    "plt.show()"
   ]
  },
  {
   "cell_type": "markdown",
   "metadata": {},
   "source": [
    "### Practice: your Pie Chart with given data\n",
    "\n",
    "You should add **reasonal labels** for your Pie chart. Add your name on title.\n",
    "\n",
    "x12 = [130, 75, 90, 65, 11]\n",
    "\n",
    "explode12 = [0.1, 0.3, 0.2, 0.05, 0.04]"
   ]
  },
  {
   "cell_type": "code",
   "execution_count": null,
   "metadata": {},
   "outputs": [],
   "source": [
    "# Your code\n",
    "===="
   ]
  },
  {
   "cell_type": "markdown",
   "metadata": {},
   "source": [
    "## Composing multi-plot figures\n",
    "So far we've only dealt with figures that have a single plot. But it's very common to want to construct more complex figures made up of multiple panels--often in irregular arrangements (e.g., a single left column, and a right column broken up into 3 separate cells). Matplotlib provides a variety of tools for working with multi-plot layouts. Here we'll illustrate a couple of the more accessible ones. In general, we can think of a `Figure` in matplotlib as a container for one or more `Axes` objects, where the position of the `Axes` in relation to the `Figure` is specified when the former is attached to the latter.\n",
    "\n",
    "Let's first consider the case where we're working with a regular layout--meaning, we want to divide our figure into a fixed number of rows and/or columns. Say we want to generate the same basic plot for multiple discrete groups or bins of data. The easiest way to deal with this kind of situation in matplotlib is using the `subplots()` function. We'll take a look at `subplots()` in a moment; but before we do that, let's start looking at some real data, instead of working with random numbers. We'll use the `load_dataset` utility in a plotting library called `seaborn` to import the famous \"iris\" dataset:"
   ]
  },
  {
   "cell_type": "code",
   "execution_count": null,
   "metadata": {},
   "outputs": [],
   "source": [
    "# We're not going to talk about seaborn just yet;\n",
    "# we're just using its data loading utility to retrieve\n",
    "# the iris dataset.\n",
    "iris = pd.read_csv('IRIS.csv')"
   ]
  },
  {
   "cell_type": "markdown",
   "metadata": {},
   "source": [
    "Here's what the Iris dataset looks like:"
   ]
  },
  {
   "cell_type": "code",
   "execution_count": null,
   "metadata": {},
   "outputs": [],
   "source": [
    "iris.head(5)"
   ]
  },
  {
   "cell_type": "markdown",
   "metadata": {},
   "source": [
    "Now let's look at how we can go about composing a figure made up of many different subplots in matplotlib. We'll capitalize on the fact that the Iris dataset contains observations for 4 different attributes measured in 3 different Iris species to generate a 4 x 3 plot, where each cell shows a histogram of observations."
   ]
  },
  {
   "cell_type": "code",
   "execution_count": null,
   "metadata": {},
   "outputs": [],
   "source": [
    "# Set up the figure and axes--a 4 x 3 grid.\n",
    "# We share both the x and y axes so it's easy to compare values.\n",
    "fig, axes = plt.subplots(4, 3, figsize=(6, 6))\n",
    "\n",
    "\n",
    "# We'll plot each species of iris in a different column\n",
    "species = ['Iris-setosa', 'Iris-versicolor', 'Iris-virginica']\n",
    "\n",
    "# ..and a histogram of each attribute in a separate row\n",
    "attrs = ['sepal_length', 'sepal_width', 'petal_length', 'petal_width']\n",
    "\n",
    "for i in range(len(species)):\n",
    "    sp = species[i]\n",
    "    sp_data = iris.query('species == @sp')\n",
    "    # Show column names\n",
    "    axes[0, i].set_title(sp, fontsize=\"16\")\n",
    "    for j in range(len(attrs)):\n",
    "        attr = attrs[j]\n",
    "        values = sp_data[attr]\n",
    "        # plot separately on each Axes\n",
    "        axes[j, i].hist(values)\n",
    "        \n",
    "        # Only plot y-axis label for first column\n",
    "        if i == 0:\n",
    "            axes[j, i].set_ylabel(attr, fontsize=12)\n",
    "\n",
    "# A fairly magical layout manager that tends to clean up\n",
    "# figures well and prevent overlap between elements.\n",
    "plt.tight_layout()\n",
    "plt.show()"
   ]
  },
  {
   "cell_type": "markdown",
   "metadata": {},
   "source": [
    "Notice that, in the above example, most of the code is concerned with manipulating the data and tweaking the plot aesthetics. The code to set up the multi-panel layout is relatively trivial: it takes one line to set up an array of `Axes` objects (using the `subplots()` function, which we politely ask for `4` rows and `3` columns), and after that, we simply loop over elements of the `axes` list and call our plotting functions directly on each `Axes` object."
   ]
  },
  {
   "cell_type": "markdown",
   "metadata": {},
   "source": [
    "### Raw Measurements with Line Graph\n",
    "\n",
    "We try to visualize the raw measurements of four features in the Iris dataset—sepal length, petal length, sepal width, and petal width—using a line graph. Instead of using aggregated (averaged) data, the code plots each individual measurement for all samples, allowing us to observe the detailed variations and trends within the dataset."
   ]
  },
  {
   "cell_type": "code",
   "execution_count": null,
   "metadata": {},
   "outputs": [],
   "source": [
    "# Extract raw data for four measurements\n",
    "sepal_length = iris['sepal_length']\n",
    "petal_length = iris['petal_length']\n",
    "sepal_width  = iris['sepal_width']\n",
    "petal_width  = iris['petal_width']\n",
    "\n",
    "# Create an array for the x-axis representing sample indices\n",
    "x = np.arange(len(iris))  # e.g., 0, 1, 2, ..., 149 if there are 150 samples\n",
    "\n",
    "# Create the line graph for raw data\n",
    "fig = plt.figure(figsize=(10, 6))\n",
    "plt.plot(x, sepal_length, marker='.', linestyle='-', label='Sepal Length')\n",
    "plt.plot(x, petal_length, marker='.', linestyle='-', label='Petal Length')\n",
    "plt.plot(x, sepal_width,  marker='.', linestyle='-', label='Sepal Width')\n",
    "plt.plot(x, petal_width,  marker='.', linestyle='-', label='Petal Width')\n",
    "\n",
    "# Label the axes and the plot\n",
    "plt.xlabel('Sample Index')\n",
    "plt.ylabel('Measurement (cm)')\n",
    "plt.title('Raw Measurements from Iris Dataset')\n",
    "plt.legend()\n",
    "plt.show()"
   ]
  },
  {
   "cell_type": "markdown",
   "metadata": {},
   "source": [
    "This plot is still not terribly compelling. For one thing, we're implicitly collapsing over three different species of Iris that may have largely separable distributions. For another, it probably doesn't make sense to plot all four attributes on the same scale, seeing as they measure qualitatively different things (even if they're all nominally measured in centimeters).\n",
    "\n",
    "To address this, we can take advantage of some of pandas other plotting tools. For example, in addition to the convenient `plot()` method, every pandas `DataFrame` exposes a number of other plotting methods that offer more flexibility. In this case, we'll use the `boxplot()` method, which wraps pyplot's own function of the same name (enabling us to pass any arguments that the pyplot version recognizes)."
   ]
  },
  {
   "cell_type": "code",
   "execution_count": null,
   "metadata": {},
   "outputs": [],
   "source": [
    "# Separate boxplot of iris attributes for each species\n",
    "iris.boxplot(by='species', figsize=(16, 4), layout=(1, 4));\n",
    "plt.show()"
   ]
  },
  {
   "cell_type": "markdown",
   "metadata": {},
   "source": [
    "### Plot with matplotlib"
   ]
  },
  {
   "cell_type": "code",
   "execution_count": null,
   "metadata": {},
   "outputs": [],
   "source": [
    "# Extract the unique species from the dataset\n",
    "species = iris['species'].unique()\n",
    "print(species)\n",
    "\n",
    "# Prepare the data for the \"sepal_length\" feature: create a list of values for each species\n",
    "data_to_plot = [iris[iris['species'] == sp]['sepal_length'] for sp in species]\n",
    "\n",
    "# Create a figure and plot the box plot\n",
    "plt.figure(figsize=(8, 6))\n",
    "plt.boxplot(data_to_plot, tick_labels=species)\n",
    "plt.title(\"Boxplot of Sepal Length by Species\")\n",
    "plt.xlabel(\"Species\")\n",
    "plt.ylabel(\"Sepal Length\")\n",
    "plt.grid()\n",
    "plt.show()"
   ]
  },
  {
   "cell_type": "markdown",
   "metadata": {},
   "source": [
    "### Big takeaway \n",
    "\n",
    "**Observation:** \n",
    "The boxplot of sepal length by species reveals several key insights. Most notably, it highlights that Iris setosa consistently exhibits shorter sepal lengths compared to Iris versicolor and Iris virginica, whose medians are noticeably higher. The relatively narrow interquartile range for setosa suggests a more uniform sepal size within that species, while the wider ranges observed for versicolor and virginica indicate greater variability. Outliers present in the data further hint at individual specimens that deviate from the norm, potentially warranting further investigation.\n",
    "\n",
    "Overall, this result helps in understanding not only the central tendency of sepal length for each species but also the spread and potential anomalies within the data, which can be important for classification and further analysis."
   ]
  },
  {
   "cell_type": "code",
   "execution_count": null,
   "metadata": {},
   "outputs": [],
   "source": [
    "# 'sepal_length', 'sepal_width', 'petal_length', 'petal_width', and 'species'\n",
    "features = ['sepal_length', 'sepal_width', 'petal_length', 'petal_width']\n",
    "species = iris['species'].unique()\n",
    "\n",
    "# Set up the figure with subplots (one subplot per feature)\n",
    "plt.figure(figsize=(16, 12))\n",
    "\n",
    "for i, feature in enumerate(features, 1):\n",
    "    plt.subplot(2, 2, i)\n",
    "    # Prepare data: for each species, extract the values for the current feature\n",
    "    data_to_plot = [iris[iris['species'] == sp][feature] for sp in species]\n",
    "    \n",
    "    # Create the box plot for the current feature, using 'tick_labels' for species labels\n",
    "    plt.boxplot(data_to_plot, tick_labels=species)\n",
    "    plt.title(f\"Boxplot of {feature.replace('_', ' ').title()}\")\n",
    "    plt.xlabel(\"Species\")\n",
    "    plt.ylabel(feature.replace('_', ' ').title())\n",
    "    plt.grid()\n",
    "    # plt.ylim(0,8)\n",
    "\n",
    "plt.tight_layout()  # Adjust spacing between subplots\n",
    "plt.show()"
   ]
  },
  {
   "cell_type": "markdown",
   "metadata": {},
   "source": [
    "### Average Measurements with Bar graph\n",
    "\n",
    "We try to compare two measurements—sepal length and petal length—for each Iris species. \n",
    "\n",
    "It groups the data by species, calculates the average for both measurements, and then creates a bar graph. \n",
    "\n",
    "In the graph, each species is represented on the x-axis with two bars: one for the average sepal length and one for the average petal length. This visual comparison helps to quickly see how these two features differ across species."
   ]
  },
  {
   "cell_type": "code",
   "execution_count": null,
   "metadata": {},
   "outputs": [],
   "source": [
    "# Group the data by species and compute average sepal and petal lengths.\n",
    "# (Adjust the column names based on your CSV file. Common names are used here.)\n",
    "avg_sepal_length = iris.groupby('species')['sepal_length'].mean()\n",
    "avg_petal_length = iris.groupby('species')['petal_length'].mean()\n",
    "\n",
    "# Create x positions for each species.\n",
    "species = avg_sepal_length.index.tolist()\n",
    "x = np.arange(len(species))\n",
    "width = 0.35  # Bar width\n",
    "\n",
    "# Create the bar graph.\n",
    "fig = plt.figure(figsize=(8, 6))\n",
    "plt.bar(x - width/2, avg_sepal_length, width, label='Sepal Length')\n",
    "plt.bar(x + width/2, avg_petal_length, width, label='Petal Length')\n",
    "\n",
    "# Label the x-axis with species names.\n",
    "plt.xticks(x, species)\n",
    "plt.xlabel('Species')\n",
    "plt.ylabel('Average Length (cm)')\n",
    "plt.title('<Yourname>+Average Sepal and Petal Length by Species')\n",
    "plt.legend()\n",
    "plt.grid()\n",
    "plt.show()"
   ]
  },
  {
   "cell_type": "markdown",
   "metadata": {},
   "source": [
    "### Saving the Plot\n",
    "\n",
    "\n",
    "We can save the figures in a wide variety of formats. We can save them using the **savefig()** command as follows:-\n",
    "\n",
    "\n",
    "`fig.savefig(‘fig1.png’)`\n",
    "\n",
    "\n",
    "\n",
    "We can explore the contents of the file using the IPython **Image** object.\n",
    "\n",
    "\n",
    "\n",
    "`from IPython.display import Image`\n",
    "\n",
    "\n",
    "`Image(‘fig1.png’)`\n",
    "\n",
    "\n",
    "In **savefig()** command, the file format is inferred from the extension of the given filename. Depending on the backend, \n",
    "many different file formats are available. The list of supported file types can be found by using the get_supported_filetypes() method of the figure canvas object as follows:-\n",
    "\n",
    "\n",
    "`fig.canvas.get_supported_filetypes()` "
   ]
  },
  {
   "cell_type": "code",
   "execution_count": null,
   "metadata": {},
   "outputs": [],
   "source": [
    "# Saving the figure\n",
    "# fig.savefig('<Your Name + title>.png')"
   ]
  }
 ],
 "metadata": {
  "kernelspec": {
   "display_name": "Python 3 (ipykernel)",
   "language": "python",
   "name": "python3"
  },
  "language_info": {
   "codemirror_mode": {
    "name": "ipython",
    "version": 3
   },
   "file_extension": ".py",
   "mimetype": "text/x-python",
   "name": "python",
   "nbconvert_exporter": "python",
   "pygments_lexer": "ipython3",
   "version": "3.11.8"
  }
 },
 "nbformat": 4,
 "nbformat_minor": 4
}
